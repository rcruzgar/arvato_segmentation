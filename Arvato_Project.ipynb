{
  "nbformat": 4,
  "nbformat_minor": 0,
  "metadata": {
    "colab": {
      "name": "Arvato_Project.ipynb",
      "provenance": [],
      "collapsed_sections": [],
      "machine_shape": "hm"
    },
    "kernelspec": {
      "name": "python3",
      "display_name": "Python 3"
    },
    "accelerator": "GPU"
  },
  "cells": [
    {
      "cell_type": "markdown",
      "metadata": {
        "id": "gnytLUnt2cBF"
      },
      "source": [
        "# Capstone Project: Create a Customer Segmentation Report for Arvato Financial Services\n",
        "\n",
        "In this project, you will analyze demographics data for customers of a mail-order sales company in Germany, comparing it against demographics information for the general population. You'll use unsupervised learning techniques to perform customer segmentation, identifying the parts of the population that best describe the core customer base of the company. Then, you'll apply what you've learned on a third dataset with demographics information for targets of a marketing campaign for the company, and use a model to predict which individuals are most likely to convert into becoming customers for the company. The data that you will use has been provided by our partners at Bertelsmann Arvato Analytics, and represents a real-life data science task.\n",
        "\n",
        "If you completed the first term of this program, you will be familiar with the first part of this project, from the unsupervised learning project. The versions of those two datasets used in this project will include many more features and has not been pre-cleaned. You are also free to choose whatever approach you'd like to analyzing the data rather than follow pre-determined steps. In your work on this project, make sure that you carefully document your steps and decisions, since your main deliverable for this project will be a blog post reporting your findings."
      ]
    },
    {
      "cell_type": "code",
      "metadata": {
        "id": "792mf8RlIap-"
      },
      "source": [
        "import numpy as np\n",
        "import pandas as pd\n",
        "import matplotlib.pyplot as plt\n",
        "import seaborn as sns\n",
        "from sklearn.impute import SimpleImputer\n",
        "from sklearn.preprocessing import MinMaxScaler\n",
        "from sklearn.decomposition import PCA\n",
        "from sklearn.cluster import KMeans\n",
        "from google.colab import drive\n",
        "drive.mount('/content/drive')\n",
        "%matplotlib inline\n",
        "\n",
        "SEED = 3"
      ],
      "execution_count": null,
      "outputs": []
    },
    {
      "cell_type": "markdown",
      "metadata": {
        "id": "7cEUZm2V2pxD"
      },
      "source": [
        "## Part 0: Get to Know the Data\n",
        "\n",
        "There are four data files associated with this project:\n",
        "\n",
        "- `Udacity_AZDIAS_052018.csv`: Demographics data for the general population of Germany; 891 211 persons (rows) x 366 features (columns).\n",
        "- `Udacity_CUSTOMERS_052018.csv`: Demographics data for customers of a mail-order company; 191 652 persons (rows) x 369 features (columns).\n",
        "- `Udacity_MAILOUT_052018_TRAIN.csv`: Demographics data for individuals who were targets of a marketing campaign; 42 982 persons (rows) x 367 (columns).\n",
        "- `Udacity_MAILOUT_052018_TEST.csv`: Demographics data for individuals who were targets of a marketing campaign; 42 833 persons (rows) x 366 (columns).\n",
        "\n",
        "Each row of the demographics files represents a single person, but also includes information outside of individuals, including information about their household, building, and neighborhood. Use the information from the first two files to figure out how customers (\"CUSTOMERS\") are similar to or differ from the general population at large (\"AZDIAS\"), then use your analysis to make predictions on the other two files (\"MAILOUT\"), predicting which recipients are most likely to become a customer for the mail-order company.\n",
        "\n",
        "The \"CUSTOMERS\" file contains three extra columns ('CUSTOMER_GROUP', 'ONLINE_PURCHASE', and 'PRODUCT_GROUP'), which provide broad information about the customers depicted in the file. The original \"MAILOUT\" file included one additional column, \"RESPONSE\", which indicated whether or not each recipient became a customer of the company. For the \"TRAIN\" subset, this column has been retained, but in the \"TEST\" subset it has been removed; it is against that withheld column that your final predictions will be assessed in the Kaggle competition.\n",
        "\n",
        "Otherwise, all of the remaining columns are the same between the three data files. For more information about the columns depicted in the files, you can refer to two Excel spreadsheets provided in the workspace. [One of them](./DIAS Information Levels - Attributes 2017.xlsx) is a top-level list of attributes and descriptions, organized by informational category. [The other](./DIAS Attributes - Values 2017.xlsx) is a detailed mapping of data values for each feature in alphabetical order.\n",
        "\n",
        "In the below cell, we've provided some initial code to load in the first two datasets. Note for all of the `.csv` data files in this project that they're semicolon (`;`) delimited, so an additional argument in the [`read_csv()`](https://pandas.pydata.org/pandas-docs/stable/generated/pandas.read_csv.html) call has been included to read in the data properly. Also, considering the size of the datasets, it may take some time for them to load completely.\n",
        "\n",
        "You'll notice when the data is loaded in that a warning message will immediately pop up. Before you really start digging into the modeling and analysis, you're going to need to perform some cleaning. Take some time to browse the structure of the data and look over the informational spreadsheets to understand the data values. Make some decisions on which features to keep, which features to drop, and if any revisions need to be made on data formats. It'll be a good idea to create a function with pre-processing steps, since you'll need to clean all of the datasets before you work with them."
      ]
    },
    {
      "cell_type": "code",
      "metadata": {
        "colab": {
          "base_uri": "https://localhost:8080/"
        },
        "id": "N7KPjqx12j4_",
        "outputId": "43a3be30-8a7a-4b1b-93dd-5ce041fe19b8"
      },
      "source": [
        "# load in the data\n",
        "azdias = pd.read_csv('/content/drive/My Drive/DATA_SCIENCE/MLEngineer_Nanodegree/data/Udacity_AZDIAS_052018.csv', sep=';') # 682mb\n",
        "customers = pd.read_csv('/content/drive/My Drive/DATA_SCIENCE/MLEngineer_Nanodegree/data/Udacity_CUSTOMERS_052018.csv', sep=';') # 144mb"
      ],
      "execution_count": 2,
      "outputs": [
        {
          "output_type": "stream",
          "text": [
            "/usr/local/lib/python3.6/dist-packages/IPython/core/interactiveshell.py:2718: DtypeWarning: Columns (18,19) have mixed types.Specify dtype option on import or set low_memory=False.\n",
            "  interactivity=interactivity, compiler=compiler, result=result)\n"
          ],
          "name": "stderr"
        }
      ]
    },
    {
      "cell_type": "code",
      "metadata": {
        "colab": {
          "base_uri": "https://localhost:8080/"
        },
        "id": "fmVNsi4V2zP1",
        "outputId": "52a347c1-7914-4215-8230-f68dc794c727"
      },
      "source": [
        "print(azdias.shape)\n",
        "print(customers.shape)"
      ],
      "execution_count": 3,
      "outputs": [
        {
          "output_type": "stream",
          "text": [
            "(891221, 366)\n",
            "(191652, 369)\n"
          ],
          "name": "stdout"
        }
      ]
    },
    {
      "cell_type": "code",
      "metadata": {
        "colab": {
          "base_uri": "https://localhost:8080/"
        },
        "id": "uJbyZXet3D3Y",
        "outputId": "7d1946bb-e2e0-4337-c545-d810ebff9d91"
      },
      "source": [
        "# Check the extra features for customers dataframe:\n",
        "extra_cols_in_customers = [col for col in customers.columns if col not in azdias.columns]\n",
        "print(\"Extra columns in Customers Data: \", extra_cols_in_customers)"
      ],
      "execution_count": 4,
      "outputs": [
        {
          "output_type": "stream",
          "text": [
            "Extra columns in Customers Data:  ['PRODUCT_GROUP', 'CUSTOMER_GROUP', 'ONLINE_PURCHASE']\n"
          ],
          "name": "stdout"
        }
      ]
    },
    {
      "cell_type": "code",
      "metadata": {
        "id": "h4UObJRZ2zR8"
      },
      "source": [
        "azdias.head()"
      ],
      "execution_count": null,
      "outputs": []
    },
    {
      "cell_type": "code",
      "metadata": {
        "colab": {
          "base_uri": "https://localhost:8080/",
          "height": 340
        },
        "id": "yxYjHCo-2zUg",
        "outputId": "2c49c2be-c3f0-4c9c-e100-24bd196a3eca"
      },
      "source": [
        "# Basic descriptive statistics of azdias:\n",
        "azdias.describe()"
      ],
      "execution_count": null,
      "outputs": [
        {
          "output_type": "execute_result",
          "data": {
            "text/html": [
              "<div>\n",
              "<style scoped>\n",
              "    .dataframe tbody tr th:only-of-type {\n",
              "        vertical-align: middle;\n",
              "    }\n",
              "\n",
              "    .dataframe tbody tr th {\n",
              "        vertical-align: top;\n",
              "    }\n",
              "\n",
              "    .dataframe thead th {\n",
              "        text-align: right;\n",
              "    }\n",
              "</style>\n",
              "<table border=\"1\" class=\"dataframe\">\n",
              "  <thead>\n",
              "    <tr style=\"text-align: right;\">\n",
              "      <th></th>\n",
              "      <th>LNR</th>\n",
              "      <th>AGER_TYP</th>\n",
              "      <th>AKT_DAT_KL</th>\n",
              "      <th>ALTER_HH</th>\n",
              "      <th>ALTER_KIND1</th>\n",
              "      <th>ALTER_KIND2</th>\n",
              "      <th>ALTER_KIND3</th>\n",
              "      <th>ALTER_KIND4</th>\n",
              "      <th>ALTERSKATEGORIE_FEIN</th>\n",
              "      <th>ANZ_HAUSHALTE_AKTIV</th>\n",
              "      <th>ANZ_HH_TITEL</th>\n",
              "      <th>ANZ_KINDER</th>\n",
              "      <th>ANZ_PERSONEN</th>\n",
              "      <th>ANZ_STATISTISCHE_HAUSHALTE</th>\n",
              "      <th>ANZ_TITEL</th>\n",
              "      <th>ARBEIT</th>\n",
              "      <th>BALLRAUM</th>\n",
              "      <th>CJT_GESAMTTYP</th>\n",
              "      <th>CJT_KATALOGNUTZER</th>\n",
              "      <th>CJT_TYP_1</th>\n",
              "      <th>CJT_TYP_2</th>\n",
              "      <th>CJT_TYP_3</th>\n",
              "      <th>CJT_TYP_4</th>\n",
              "      <th>CJT_TYP_5</th>\n",
              "      <th>CJT_TYP_6</th>\n",
              "      <th>D19_BANKEN_ANZ_12</th>\n",
              "      <th>D19_BANKEN_ANZ_24</th>\n",
              "      <th>D19_BANKEN_DATUM</th>\n",
              "      <th>D19_BANKEN_DIREKT</th>\n",
              "      <th>D19_BANKEN_GROSS</th>\n",
              "      <th>D19_BANKEN_LOKAL</th>\n",
              "      <th>D19_BANKEN_OFFLINE_DATUM</th>\n",
              "      <th>D19_BANKEN_ONLINE_DATUM</th>\n",
              "      <th>D19_BANKEN_ONLINE_QUOTE_12</th>\n",
              "      <th>D19_BANKEN_REST</th>\n",
              "      <th>D19_BEKLEIDUNG_GEH</th>\n",
              "      <th>D19_BEKLEIDUNG_REST</th>\n",
              "      <th>D19_BILDUNG</th>\n",
              "      <th>D19_BIO_OEKO</th>\n",
              "      <th>D19_BUCH_CD</th>\n",
              "      <th>...</th>\n",
              "      <th>REGIOTYP</th>\n",
              "      <th>RELAT_AB</th>\n",
              "      <th>RETOURTYP_BK_S</th>\n",
              "      <th>RT_KEIN_ANREIZ</th>\n",
              "      <th>RT_SCHNAEPPCHEN</th>\n",
              "      <th>RT_UEBERGROESSE</th>\n",
              "      <th>SEMIO_DOM</th>\n",
              "      <th>SEMIO_ERL</th>\n",
              "      <th>SEMIO_FAM</th>\n",
              "      <th>SEMIO_KAEM</th>\n",
              "      <th>SEMIO_KRIT</th>\n",
              "      <th>SEMIO_KULT</th>\n",
              "      <th>SEMIO_LUST</th>\n",
              "      <th>SEMIO_MAT</th>\n",
              "      <th>SEMIO_PFLICHT</th>\n",
              "      <th>SEMIO_RAT</th>\n",
              "      <th>SEMIO_REL</th>\n",
              "      <th>SEMIO_SOZ</th>\n",
              "      <th>SEMIO_TRADV</th>\n",
              "      <th>SEMIO_VERT</th>\n",
              "      <th>SHOPPER_TYP</th>\n",
              "      <th>SOHO_KZ</th>\n",
              "      <th>STRUKTURTYP</th>\n",
              "      <th>TITEL_KZ</th>\n",
              "      <th>UMFELD_ALT</th>\n",
              "      <th>UMFELD_JUNG</th>\n",
              "      <th>UNGLEICHENN_FLAG</th>\n",
              "      <th>VERDICHTUNGSRAUM</th>\n",
              "      <th>VERS_TYP</th>\n",
              "      <th>VHA</th>\n",
              "      <th>VHN</th>\n",
              "      <th>VK_DHT4A</th>\n",
              "      <th>VK_DISTANZ</th>\n",
              "      <th>VK_ZG11</th>\n",
              "      <th>W_KEIT_KIND_HH</th>\n",
              "      <th>WOHNDAUER_2008</th>\n",
              "      <th>WOHNLAGE</th>\n",
              "      <th>ZABEOTYP</th>\n",
              "      <th>ANREDE_KZ</th>\n",
              "      <th>ALTERSKATEGORIE_GROB</th>\n",
              "    </tr>\n",
              "  </thead>\n",
              "  <tbody>\n",
              "    <tr>\n",
              "      <th>count</th>\n",
              "      <td>8.912210e+05</td>\n",
              "      <td>891221.000000</td>\n",
              "      <td>817722.000000</td>\n",
              "      <td>817722.000000</td>\n",
              "      <td>81058.000000</td>\n",
              "      <td>29499.000000</td>\n",
              "      <td>6170.000000</td>\n",
              "      <td>1205.000000</td>\n",
              "      <td>628274.000000</td>\n",
              "      <td>798073.000000</td>\n",
              "      <td>794213.000000</td>\n",
              "      <td>817722.000000</td>\n",
              "      <td>817722.000000</td>\n",
              "      <td>798073.000000</td>\n",
              "      <td>817722.000000</td>\n",
              "      <td>794005.000000</td>\n",
              "      <td>797481.000000</td>\n",
              "      <td>886367.000000</td>\n",
              "      <td>886367.000000</td>\n",
              "      <td>886367.000000</td>\n",
              "      <td>886367.000000</td>\n",
              "      <td>886367.000000</td>\n",
              "      <td>886367.000000</td>\n",
              "      <td>886367.000000</td>\n",
              "      <td>886367.000000</td>\n",
              "      <td>891221.000000</td>\n",
              "      <td>891221.000000</td>\n",
              "      <td>891221.000000</td>\n",
              "      <td>891221.000000</td>\n",
              "      <td>891221.000000</td>\n",
              "      <td>891221.000000</td>\n",
              "      <td>891221.000000</td>\n",
              "      <td>891221.000000</td>\n",
              "      <td>634108.000000</td>\n",
              "      <td>891221.000000</td>\n",
              "      <td>891221.000000</td>\n",
              "      <td>891221.000000</td>\n",
              "      <td>891221.000000</td>\n",
              "      <td>891221.000000</td>\n",
              "      <td>891221.000000</td>\n",
              "      <td>...</td>\n",
              "      <td>770025.000000</td>\n",
              "      <td>794005.00000</td>\n",
              "      <td>886367.000000</td>\n",
              "      <td>886367.000000</td>\n",
              "      <td>886367.000000</td>\n",
              "      <td>839995.000000</td>\n",
              "      <td>891221.000000</td>\n",
              "      <td>891221.000000</td>\n",
              "      <td>891221.000000</td>\n",
              "      <td>891221.000000</td>\n",
              "      <td>891221.000000</td>\n",
              "      <td>891221.000000</td>\n",
              "      <td>891221.000000</td>\n",
              "      <td>891221.000000</td>\n",
              "      <td>891221.000000</td>\n",
              "      <td>891221.000000</td>\n",
              "      <td>891221.000000</td>\n",
              "      <td>891221.000000</td>\n",
              "      <td>891221.000000</td>\n",
              "      <td>891221.000000</td>\n",
              "      <td>891221.000000</td>\n",
              "      <td>817722.000000</td>\n",
              "      <td>793947.000000</td>\n",
              "      <td>817722.000000</td>\n",
              "      <td>793435.000000</td>\n",
              "      <td>793435.000000</td>\n",
              "      <td>817722.000000</td>\n",
              "      <td>793947.00000</td>\n",
              "      <td>891221.000000</td>\n",
              "      <td>817722.00000</td>\n",
              "      <td>770025.000000</td>\n",
              "      <td>815304.000000</td>\n",
              "      <td>815304.000000</td>\n",
              "      <td>815304.000000</td>\n",
              "      <td>783619.000000</td>\n",
              "      <td>817722.000000</td>\n",
              "      <td>798073.000000</td>\n",
              "      <td>891221.000000</td>\n",
              "      <td>891221.000000</td>\n",
              "      <td>891221.000000</td>\n",
              "    </tr>\n",
              "    <tr>\n",
              "      <th>mean</th>\n",
              "      <td>6.372630e+05</td>\n",
              "      <td>-0.358435</td>\n",
              "      <td>4.421928</td>\n",
              "      <td>10.864126</td>\n",
              "      <td>11.745392</td>\n",
              "      <td>13.402658</td>\n",
              "      <td>14.476013</td>\n",
              "      <td>15.089627</td>\n",
              "      <td>13.700717</td>\n",
              "      <td>8.287263</td>\n",
              "      <td>0.040647</td>\n",
              "      <td>0.154018</td>\n",
              "      <td>1.727637</td>\n",
              "      <td>7.599356</td>\n",
              "      <td>0.004162</td>\n",
              "      <td>3.167854</td>\n",
              "      <td>4.153043</td>\n",
              "      <td>3.632838</td>\n",
              "      <td>3.335264</td>\n",
              "      <td>3.368086</td>\n",
              "      <td>3.195014</td>\n",
              "      <td>3.351290</td>\n",
              "      <td>3.336151</td>\n",
              "      <td>3.360684</td>\n",
              "      <td>3.465980</td>\n",
              "      <td>0.122336</td>\n",
              "      <td>0.219907</td>\n",
              "      <td>9.267420</td>\n",
              "      <td>0.892735</td>\n",
              "      <td>0.568580</td>\n",
              "      <td>0.106769</td>\n",
              "      <td>9.926794</td>\n",
              "      <td>9.439073</td>\n",
              "      <td>0.705221</td>\n",
              "      <td>0.425645</td>\n",
              "      <td>0.467869</td>\n",
              "      <td>1.145516</td>\n",
              "      <td>0.485508</td>\n",
              "      <td>0.257938</td>\n",
              "      <td>1.585405</td>\n",
              "      <td>...</td>\n",
              "      <td>4.257967</td>\n",
              "      <td>3.07222</td>\n",
              "      <td>3.419630</td>\n",
              "      <td>3.233723</td>\n",
              "      <td>3.863797</td>\n",
              "      <td>3.023813</td>\n",
              "      <td>4.667550</td>\n",
              "      <td>4.481405</td>\n",
              "      <td>4.272729</td>\n",
              "      <td>4.445007</td>\n",
              "      <td>4.763223</td>\n",
              "      <td>4.025014</td>\n",
              "      <td>4.359086</td>\n",
              "      <td>4.001597</td>\n",
              "      <td>4.256076</td>\n",
              "      <td>3.910139</td>\n",
              "      <td>4.240609</td>\n",
              "      <td>3.945860</td>\n",
              "      <td>3.661784</td>\n",
              "      <td>4.023709</td>\n",
              "      <td>1.266967</td>\n",
              "      <td>0.008423</td>\n",
              "      <td>2.539212</td>\n",
              "      <td>0.003483</td>\n",
              "      <td>3.223125</td>\n",
              "      <td>4.017526</td>\n",
              "      <td>0.090067</td>\n",
              "      <td>4.58576</td>\n",
              "      <td>1.197852</td>\n",
              "      <td>0.43882</td>\n",
              "      <td>2.417322</td>\n",
              "      <td>6.001214</td>\n",
              "      <td>7.532130</td>\n",
              "      <td>5.945972</td>\n",
              "      <td>3.933406</td>\n",
              "      <td>7.908791</td>\n",
              "      <td>4.052836</td>\n",
              "      <td>3.362438</td>\n",
              "      <td>1.522098</td>\n",
              "      <td>2.777398</td>\n",
              "    </tr>\n",
              "    <tr>\n",
              "      <th>std</th>\n",
              "      <td>2.572735e+05</td>\n",
              "      <td>1.198724</td>\n",
              "      <td>3.638805</td>\n",
              "      <td>7.639683</td>\n",
              "      <td>4.097660</td>\n",
              "      <td>3.243300</td>\n",
              "      <td>2.712427</td>\n",
              "      <td>2.452932</td>\n",
              "      <td>5.079849</td>\n",
              "      <td>15.628087</td>\n",
              "      <td>0.324028</td>\n",
              "      <td>0.502389</td>\n",
              "      <td>1.155849</td>\n",
              "      <td>14.332201</td>\n",
              "      <td>0.068855</td>\n",
              "      <td>1.002376</td>\n",
              "      <td>2.183710</td>\n",
              "      <td>1.595021</td>\n",
              "      <td>1.493633</td>\n",
              "      <td>1.368331</td>\n",
              "      <td>1.401382</td>\n",
              "      <td>1.396508</td>\n",
              "      <td>1.373077</td>\n",
              "      <td>1.378992</td>\n",
              "      <td>1.328456</td>\n",
              "      <td>0.535950</td>\n",
              "      <td>0.747903</td>\n",
              "      <td>1.735725</td>\n",
              "      <td>2.011838</td>\n",
              "      <td>1.643764</td>\n",
              "      <td>0.808179</td>\n",
              "      <td>0.605641</td>\n",
              "      <td>1.547773</td>\n",
              "      <td>2.552707</td>\n",
              "      <td>1.510782</td>\n",
              "      <td>1.542151</td>\n",
              "      <td>2.266999</td>\n",
              "      <td>1.639340</td>\n",
              "      <td>1.252328</td>\n",
              "      <td>2.547925</td>\n",
              "      <td>...</td>\n",
              "      <td>2.030385</td>\n",
              "      <td>1.36298</td>\n",
              "      <td>1.417741</td>\n",
              "      <td>1.388687</td>\n",
              "      <td>1.282747</td>\n",
              "      <td>1.502725</td>\n",
              "      <td>1.795712</td>\n",
              "      <td>1.807552</td>\n",
              "      <td>1.915885</td>\n",
              "      <td>1.852412</td>\n",
              "      <td>1.830789</td>\n",
              "      <td>1.903816</td>\n",
              "      <td>2.022829</td>\n",
              "      <td>1.857540</td>\n",
              "      <td>1.770137</td>\n",
              "      <td>1.580306</td>\n",
              "      <td>2.007373</td>\n",
              "      <td>1.946564</td>\n",
              "      <td>1.707637</td>\n",
              "      <td>2.077746</td>\n",
              "      <td>1.287435</td>\n",
              "      <td>0.091392</td>\n",
              "      <td>0.754926</td>\n",
              "      <td>0.084957</td>\n",
              "      <td>1.255785</td>\n",
              "      <td>1.118399</td>\n",
              "      <td>0.286278</td>\n",
              "      <td>8.47152</td>\n",
              "      <td>0.952532</td>\n",
              "      <td>1.14329</td>\n",
              "      <td>1.166572</td>\n",
              "      <td>2.856091</td>\n",
              "      <td>3.247789</td>\n",
              "      <td>2.771464</td>\n",
              "      <td>1.964701</td>\n",
              "      <td>1.923137</td>\n",
              "      <td>1.949539</td>\n",
              "      <td>1.352704</td>\n",
              "      <td>0.499512</td>\n",
              "      <td>1.068775</td>\n",
              "    </tr>\n",
              "    <tr>\n",
              "      <th>min</th>\n",
              "      <td>1.916530e+05</td>\n",
              "      <td>-1.000000</td>\n",
              "      <td>1.000000</td>\n",
              "      <td>0.000000</td>\n",
              "      <td>2.000000</td>\n",
              "      <td>2.000000</td>\n",
              "      <td>4.000000</td>\n",
              "      <td>7.000000</td>\n",
              "      <td>0.000000</td>\n",
              "      <td>0.000000</td>\n",
              "      <td>0.000000</td>\n",
              "      <td>0.000000</td>\n",
              "      <td>0.000000</td>\n",
              "      <td>0.000000</td>\n",
              "      <td>0.000000</td>\n",
              "      <td>1.000000</td>\n",
              "      <td>1.000000</td>\n",
              "      <td>1.000000</td>\n",
              "      <td>1.000000</td>\n",
              "      <td>1.000000</td>\n",
              "      <td>1.000000</td>\n",
              "      <td>1.000000</td>\n",
              "      <td>1.000000</td>\n",
              "      <td>1.000000</td>\n",
              "      <td>1.000000</td>\n",
              "      <td>0.000000</td>\n",
              "      <td>0.000000</td>\n",
              "      <td>1.000000</td>\n",
              "      <td>0.000000</td>\n",
              "      <td>0.000000</td>\n",
              "      <td>0.000000</td>\n",
              "      <td>1.000000</td>\n",
              "      <td>1.000000</td>\n",
              "      <td>0.000000</td>\n",
              "      <td>0.000000</td>\n",
              "      <td>0.000000</td>\n",
              "      <td>0.000000</td>\n",
              "      <td>0.000000</td>\n",
              "      <td>0.000000</td>\n",
              "      <td>0.000000</td>\n",
              "      <td>...</td>\n",
              "      <td>0.000000</td>\n",
              "      <td>1.00000</td>\n",
              "      <td>1.000000</td>\n",
              "      <td>1.000000</td>\n",
              "      <td>1.000000</td>\n",
              "      <td>0.000000</td>\n",
              "      <td>1.000000</td>\n",
              "      <td>1.000000</td>\n",
              "      <td>1.000000</td>\n",
              "      <td>1.000000</td>\n",
              "      <td>1.000000</td>\n",
              "      <td>1.000000</td>\n",
              "      <td>1.000000</td>\n",
              "      <td>1.000000</td>\n",
              "      <td>1.000000</td>\n",
              "      <td>1.000000</td>\n",
              "      <td>1.000000</td>\n",
              "      <td>1.000000</td>\n",
              "      <td>1.000000</td>\n",
              "      <td>1.000000</td>\n",
              "      <td>-1.000000</td>\n",
              "      <td>0.000000</td>\n",
              "      <td>1.000000</td>\n",
              "      <td>0.000000</td>\n",
              "      <td>1.000000</td>\n",
              "      <td>1.000000</td>\n",
              "      <td>0.000000</td>\n",
              "      <td>0.00000</td>\n",
              "      <td>-1.000000</td>\n",
              "      <td>0.00000</td>\n",
              "      <td>0.000000</td>\n",
              "      <td>1.000000</td>\n",
              "      <td>1.000000</td>\n",
              "      <td>1.000000</td>\n",
              "      <td>0.000000</td>\n",
              "      <td>1.000000</td>\n",
              "      <td>0.000000</td>\n",
              "      <td>1.000000</td>\n",
              "      <td>1.000000</td>\n",
              "      <td>1.000000</td>\n",
              "    </tr>\n",
              "    <tr>\n",
              "      <th>25%</th>\n",
              "      <td>4.144580e+05</td>\n",
              "      <td>-1.000000</td>\n",
              "      <td>1.000000</td>\n",
              "      <td>0.000000</td>\n",
              "      <td>8.000000</td>\n",
              "      <td>11.000000</td>\n",
              "      <td>13.000000</td>\n",
              "      <td>14.000000</td>\n",
              "      <td>11.000000</td>\n",
              "      <td>1.000000</td>\n",
              "      <td>0.000000</td>\n",
              "      <td>0.000000</td>\n",
              "      <td>1.000000</td>\n",
              "      <td>1.000000</td>\n",
              "      <td>0.000000</td>\n",
              "      <td>3.000000</td>\n",
              "      <td>2.000000</td>\n",
              "      <td>2.000000</td>\n",
              "      <td>2.000000</td>\n",
              "      <td>2.000000</td>\n",
              "      <td>2.000000</td>\n",
              "      <td>2.000000</td>\n",
              "      <td>2.000000</td>\n",
              "      <td>2.000000</td>\n",
              "      <td>2.000000</td>\n",
              "      <td>0.000000</td>\n",
              "      <td>0.000000</td>\n",
              "      <td>10.000000</td>\n",
              "      <td>0.000000</td>\n",
              "      <td>0.000000</td>\n",
              "      <td>0.000000</td>\n",
              "      <td>10.000000</td>\n",
              "      <td>10.000000</td>\n",
              "      <td>0.000000</td>\n",
              "      <td>0.000000</td>\n",
              "      <td>0.000000</td>\n",
              "      <td>0.000000</td>\n",
              "      <td>0.000000</td>\n",
              "      <td>0.000000</td>\n",
              "      <td>0.000000</td>\n",
              "      <td>...</td>\n",
              "      <td>3.000000</td>\n",
              "      <td>2.00000</td>\n",
              "      <td>2.000000</td>\n",
              "      <td>2.000000</td>\n",
              "      <td>3.000000</td>\n",
              "      <td>2.000000</td>\n",
              "      <td>3.000000</td>\n",
              "      <td>3.000000</td>\n",
              "      <td>3.000000</td>\n",
              "      <td>3.000000</td>\n",
              "      <td>3.000000</td>\n",
              "      <td>3.000000</td>\n",
              "      <td>2.000000</td>\n",
              "      <td>2.000000</td>\n",
              "      <td>3.000000</td>\n",
              "      <td>3.000000</td>\n",
              "      <td>3.000000</td>\n",
              "      <td>2.000000</td>\n",
              "      <td>2.000000</td>\n",
              "      <td>2.000000</td>\n",
              "      <td>0.000000</td>\n",
              "      <td>0.000000</td>\n",
              "      <td>2.000000</td>\n",
              "      <td>0.000000</td>\n",
              "      <td>2.000000</td>\n",
              "      <td>3.000000</td>\n",
              "      <td>0.000000</td>\n",
              "      <td>0.00000</td>\n",
              "      <td>1.000000</td>\n",
              "      <td>0.00000</td>\n",
              "      <td>2.000000</td>\n",
              "      <td>3.000000</td>\n",
              "      <td>5.000000</td>\n",
              "      <td>4.000000</td>\n",
              "      <td>2.000000</td>\n",
              "      <td>8.000000</td>\n",
              "      <td>3.000000</td>\n",
              "      <td>3.000000</td>\n",
              "      <td>1.000000</td>\n",
              "      <td>2.000000</td>\n",
              "    </tr>\n",
              "    <tr>\n",
              "      <th>50%</th>\n",
              "      <td>6.372630e+05</td>\n",
              "      <td>-1.000000</td>\n",
              "      <td>3.000000</td>\n",
              "      <td>13.000000</td>\n",
              "      <td>12.000000</td>\n",
              "      <td>14.000000</td>\n",
              "      <td>15.000000</td>\n",
              "      <td>15.000000</td>\n",
              "      <td>14.000000</td>\n",
              "      <td>4.000000</td>\n",
              "      <td>0.000000</td>\n",
              "      <td>0.000000</td>\n",
              "      <td>1.000000</td>\n",
              "      <td>3.000000</td>\n",
              "      <td>0.000000</td>\n",
              "      <td>3.000000</td>\n",
              "      <td>5.000000</td>\n",
              "      <td>4.000000</td>\n",
              "      <td>4.000000</td>\n",
              "      <td>3.000000</td>\n",
              "      <td>3.000000</td>\n",
              "      <td>3.000000</td>\n",
              "      <td>3.000000</td>\n",
              "      <td>3.000000</td>\n",
              "      <td>4.000000</td>\n",
              "      <td>0.000000</td>\n",
              "      <td>0.000000</td>\n",
              "      <td>10.000000</td>\n",
              "      <td>0.000000</td>\n",
              "      <td>0.000000</td>\n",
              "      <td>0.000000</td>\n",
              "      <td>10.000000</td>\n",
              "      <td>10.000000</td>\n",
              "      <td>0.000000</td>\n",
              "      <td>0.000000</td>\n",
              "      <td>0.000000</td>\n",
              "      <td>0.000000</td>\n",
              "      <td>0.000000</td>\n",
              "      <td>0.000000</td>\n",
              "      <td>0.000000</td>\n",
              "      <td>...</td>\n",
              "      <td>5.000000</td>\n",
              "      <td>3.00000</td>\n",
              "      <td>3.000000</td>\n",
              "      <td>3.000000</td>\n",
              "      <td>4.000000</td>\n",
              "      <td>3.000000</td>\n",
              "      <td>5.000000</td>\n",
              "      <td>4.000000</td>\n",
              "      <td>4.000000</td>\n",
              "      <td>5.000000</td>\n",
              "      <td>5.000000</td>\n",
              "      <td>4.000000</td>\n",
              "      <td>5.000000</td>\n",
              "      <td>4.000000</td>\n",
              "      <td>4.000000</td>\n",
              "      <td>4.000000</td>\n",
              "      <td>4.000000</td>\n",
              "      <td>4.000000</td>\n",
              "      <td>3.000000</td>\n",
              "      <td>4.000000</td>\n",
              "      <td>1.000000</td>\n",
              "      <td>0.000000</td>\n",
              "      <td>3.000000</td>\n",
              "      <td>0.000000</td>\n",
              "      <td>3.000000</td>\n",
              "      <td>4.000000</td>\n",
              "      <td>0.000000</td>\n",
              "      <td>1.00000</td>\n",
              "      <td>1.000000</td>\n",
              "      <td>0.00000</td>\n",
              "      <td>2.000000</td>\n",
              "      <td>6.000000</td>\n",
              "      <td>8.000000</td>\n",
              "      <td>6.000000</td>\n",
              "      <td>4.000000</td>\n",
              "      <td>9.000000</td>\n",
              "      <td>3.000000</td>\n",
              "      <td>3.000000</td>\n",
              "      <td>2.000000</td>\n",
              "      <td>3.000000</td>\n",
              "    </tr>\n",
              "    <tr>\n",
              "      <th>75%</th>\n",
              "      <td>8.600680e+05</td>\n",
              "      <td>-1.000000</td>\n",
              "      <td>9.000000</td>\n",
              "      <td>17.000000</td>\n",
              "      <td>15.000000</td>\n",
              "      <td>16.000000</td>\n",
              "      <td>17.000000</td>\n",
              "      <td>17.000000</td>\n",
              "      <td>17.000000</td>\n",
              "      <td>9.000000</td>\n",
              "      <td>0.000000</td>\n",
              "      <td>0.000000</td>\n",
              "      <td>2.000000</td>\n",
              "      <td>9.000000</td>\n",
              "      <td>0.000000</td>\n",
              "      <td>4.000000</td>\n",
              "      <td>6.000000</td>\n",
              "      <td>5.000000</td>\n",
              "      <td>5.000000</td>\n",
              "      <td>5.000000</td>\n",
              "      <td>5.000000</td>\n",
              "      <td>5.000000</td>\n",
              "      <td>5.000000</td>\n",
              "      <td>5.000000</td>\n",
              "      <td>5.000000</td>\n",
              "      <td>0.000000</td>\n",
              "      <td>0.000000</td>\n",
              "      <td>10.000000</td>\n",
              "      <td>0.000000</td>\n",
              "      <td>0.000000</td>\n",
              "      <td>0.000000</td>\n",
              "      <td>10.000000</td>\n",
              "      <td>10.000000</td>\n",
              "      <td>0.000000</td>\n",
              "      <td>0.000000</td>\n",
              "      <td>0.000000</td>\n",
              "      <td>0.000000</td>\n",
              "      <td>0.000000</td>\n",
              "      <td>0.000000</td>\n",
              "      <td>3.000000</td>\n",
              "      <td>...</td>\n",
              "      <td>6.000000</td>\n",
              "      <td>4.00000</td>\n",
              "      <td>5.000000</td>\n",
              "      <td>4.000000</td>\n",
              "      <td>5.000000</td>\n",
              "      <td>4.000000</td>\n",
              "      <td>6.000000</td>\n",
              "      <td>6.000000</td>\n",
              "      <td>6.000000</td>\n",
              "      <td>6.000000</td>\n",
              "      <td>6.000000</td>\n",
              "      <td>5.000000</td>\n",
              "      <td>6.000000</td>\n",
              "      <td>5.000000</td>\n",
              "      <td>6.000000</td>\n",
              "      <td>5.000000</td>\n",
              "      <td>6.000000</td>\n",
              "      <td>6.000000</td>\n",
              "      <td>5.000000</td>\n",
              "      <td>6.000000</td>\n",
              "      <td>2.000000</td>\n",
              "      <td>0.000000</td>\n",
              "      <td>3.000000</td>\n",
              "      <td>0.000000</td>\n",
              "      <td>4.000000</td>\n",
              "      <td>5.000000</td>\n",
              "      <td>0.000000</td>\n",
              "      <td>5.00000</td>\n",
              "      <td>2.000000</td>\n",
              "      <td>0.00000</td>\n",
              "      <td>3.000000</td>\n",
              "      <td>9.000000</td>\n",
              "      <td>10.000000</td>\n",
              "      <td>8.000000</td>\n",
              "      <td>6.000000</td>\n",
              "      <td>9.000000</td>\n",
              "      <td>5.000000</td>\n",
              "      <td>4.000000</td>\n",
              "      <td>2.000000</td>\n",
              "      <td>4.000000</td>\n",
              "    </tr>\n",
              "    <tr>\n",
              "      <th>max</th>\n",
              "      <td>1.082873e+06</td>\n",
              "      <td>3.000000</td>\n",
              "      <td>9.000000</td>\n",
              "      <td>21.000000</td>\n",
              "      <td>18.000000</td>\n",
              "      <td>18.000000</td>\n",
              "      <td>18.000000</td>\n",
              "      <td>18.000000</td>\n",
              "      <td>25.000000</td>\n",
              "      <td>595.000000</td>\n",
              "      <td>23.000000</td>\n",
              "      <td>11.000000</td>\n",
              "      <td>45.000000</td>\n",
              "      <td>449.000000</td>\n",
              "      <td>6.000000</td>\n",
              "      <td>9.000000</td>\n",
              "      <td>7.000000</td>\n",
              "      <td>6.000000</td>\n",
              "      <td>5.000000</td>\n",
              "      <td>5.000000</td>\n",
              "      <td>5.000000</td>\n",
              "      <td>5.000000</td>\n",
              "      <td>5.000000</td>\n",
              "      <td>5.000000</td>\n",
              "      <td>5.000000</td>\n",
              "      <td>6.000000</td>\n",
              "      <td>6.000000</td>\n",
              "      <td>10.000000</td>\n",
              "      <td>7.000000</td>\n",
              "      <td>6.000000</td>\n",
              "      <td>7.000000</td>\n",
              "      <td>10.000000</td>\n",
              "      <td>10.000000</td>\n",
              "      <td>10.000000</td>\n",
              "      <td>7.000000</td>\n",
              "      <td>7.000000</td>\n",
              "      <td>7.000000</td>\n",
              "      <td>7.000000</td>\n",
              "      <td>7.000000</td>\n",
              "      <td>7.000000</td>\n",
              "      <td>...</td>\n",
              "      <td>7.000000</td>\n",
              "      <td>9.00000</td>\n",
              "      <td>5.000000</td>\n",
              "      <td>5.000000</td>\n",
              "      <td>5.000000</td>\n",
              "      <td>5.000000</td>\n",
              "      <td>7.000000</td>\n",
              "      <td>7.000000</td>\n",
              "      <td>7.000000</td>\n",
              "      <td>7.000000</td>\n",
              "      <td>7.000000</td>\n",
              "      <td>7.000000</td>\n",
              "      <td>7.000000</td>\n",
              "      <td>7.000000</td>\n",
              "      <td>7.000000</td>\n",
              "      <td>7.000000</td>\n",
              "      <td>7.000000</td>\n",
              "      <td>7.000000</td>\n",
              "      <td>7.000000</td>\n",
              "      <td>7.000000</td>\n",
              "      <td>3.000000</td>\n",
              "      <td>1.000000</td>\n",
              "      <td>3.000000</td>\n",
              "      <td>5.000000</td>\n",
              "      <td>5.000000</td>\n",
              "      <td>5.000000</td>\n",
              "      <td>1.000000</td>\n",
              "      <td>45.00000</td>\n",
              "      <td>2.000000</td>\n",
              "      <td>5.00000</td>\n",
              "      <td>4.000000</td>\n",
              "      <td>11.000000</td>\n",
              "      <td>13.000000</td>\n",
              "      <td>11.000000</td>\n",
              "      <td>6.000000</td>\n",
              "      <td>9.000000</td>\n",
              "      <td>8.000000</td>\n",
              "      <td>6.000000</td>\n",
              "      <td>2.000000</td>\n",
              "      <td>9.000000</td>\n",
              "    </tr>\n",
              "  </tbody>\n",
              "</table>\n",
              "<p>8 rows × 360 columns</p>\n",
              "</div>"
            ],
            "text/plain": [
              "                LNR       AGER_TYP  ...      ANREDE_KZ  ALTERSKATEGORIE_GROB\n",
              "count  8.912210e+05  891221.000000  ...  891221.000000         891221.000000\n",
              "mean   6.372630e+05      -0.358435  ...       1.522098              2.777398\n",
              "std    2.572735e+05       1.198724  ...       0.499512              1.068775\n",
              "min    1.916530e+05      -1.000000  ...       1.000000              1.000000\n",
              "25%    4.144580e+05      -1.000000  ...       1.000000              2.000000\n",
              "50%    6.372630e+05      -1.000000  ...       2.000000              3.000000\n",
              "75%    8.600680e+05      -1.000000  ...       2.000000              4.000000\n",
              "max    1.082873e+06       3.000000  ...       2.000000              9.000000\n",
              "\n",
              "[8 rows x 360 columns]"
            ]
          },
          "metadata": {
            "tags": []
          },
          "execution_count": 7
        }
      ]
    },
    {
      "cell_type": "markdown",
      "metadata": {
        "id": "tACJpoWO24PU"
      },
      "source": [
        "#### Data Preprocessing *azdias* and *customers*"
      ]
    },
    {
      "cell_type": "code",
      "metadata": {
        "id": "c__o73W_2zXB"
      },
      "source": [
        "# Check the number of missing values per column\n",
        "# There are many columns with missing values:\n",
        "azdias.isnull().sum()[azdias.isnull().sum() != 0]"
      ],
      "execution_count": null,
      "outputs": []
    },
    {
      "cell_type": "code",
      "metadata": {
        "id": "7IJMgRVzIuZW"
      },
      "source": [
        "# Convert all int64 columns to float64 type since it leads to some problems\n",
        "# later on imputer\n",
        "df_list = [azdias, customers]\n",
        "for data in df_list:\n",
        "  for col in data.columns:\n",
        "      if data[col].dtype == np.int64:\n",
        "          data[col] = data[col].astype(np.float64)"
      ],
      "execution_count": 5,
      "outputs": []
    },
    {
      "cell_type": "markdown",
      "metadata": {
        "id": "kMcAsGIv5stW"
      },
      "source": [
        "### Load the attribute sheet, with information per column/feature. Prepare it to process the missing values.\n"
      ]
    },
    {
      "cell_type": "code",
      "metadata": {
        "colab": {
          "base_uri": "https://localhost:8080/",
          "height": 200
        },
        "id": "GkD1jeZZ2zbw",
        "outputId": "26c024a8-f822-47e9-b96b-f26e2d4184bd"
      },
      "source": [
        "feat_info = pd.read_excel('/content/drive/My Drive/DATA_SCIENCE/MLEngineer_Nanodegree/data/DIAS Attributes - Values 2017.xlsx',\n",
        "                          header = 1)\n",
        "feat_info.drop(['Unnamed: 0'], axis=1, inplace=True)\n",
        "feat_info.head()"
      ],
      "execution_count": 6,
      "outputs": [
        {
          "output_type": "execute_result",
          "data": {
            "text/html": [
              "<div>\n",
              "<style scoped>\n",
              "    .dataframe tbody tr th:only-of-type {\n",
              "        vertical-align: middle;\n",
              "    }\n",
              "\n",
              "    .dataframe tbody tr th {\n",
              "        vertical-align: top;\n",
              "    }\n",
              "\n",
              "    .dataframe thead th {\n",
              "        text-align: right;\n",
              "    }\n",
              "</style>\n",
              "<table border=\"1\" class=\"dataframe\">\n",
              "  <thead>\n",
              "    <tr style=\"text-align: right;\">\n",
              "      <th></th>\n",
              "      <th>Attribute</th>\n",
              "      <th>Description</th>\n",
              "      <th>Value</th>\n",
              "      <th>Meaning</th>\n",
              "    </tr>\n",
              "  </thead>\n",
              "  <tbody>\n",
              "    <tr>\n",
              "      <th>0</th>\n",
              "      <td>AGER_TYP</td>\n",
              "      <td>best-ager typology</td>\n",
              "      <td>-1</td>\n",
              "      <td>unknown</td>\n",
              "    </tr>\n",
              "    <tr>\n",
              "      <th>1</th>\n",
              "      <td>NaN</td>\n",
              "      <td>NaN</td>\n",
              "      <td>0</td>\n",
              "      <td>no classification possible</td>\n",
              "    </tr>\n",
              "    <tr>\n",
              "      <th>2</th>\n",
              "      <td>NaN</td>\n",
              "      <td>NaN</td>\n",
              "      <td>1</td>\n",
              "      <td>passive elderly</td>\n",
              "    </tr>\n",
              "    <tr>\n",
              "      <th>3</th>\n",
              "      <td>NaN</td>\n",
              "      <td>NaN</td>\n",
              "      <td>2</td>\n",
              "      <td>cultural elderly</td>\n",
              "    </tr>\n",
              "    <tr>\n",
              "      <th>4</th>\n",
              "      <td>NaN</td>\n",
              "      <td>NaN</td>\n",
              "      <td>3</td>\n",
              "      <td>experience-driven elderly</td>\n",
              "    </tr>\n",
              "  </tbody>\n",
              "</table>\n",
              "</div>"
            ],
            "text/plain": [
              "  Attribute         Description Value                     Meaning\n",
              "0  AGER_TYP  best-ager typology    -1                     unknown\n",
              "1       NaN                 NaN     0  no classification possible\n",
              "2       NaN                 NaN     1             passive elderly\n",
              "3       NaN                 NaN     2            cultural elderly\n",
              "4       NaN                 NaN     3   experience-driven elderly"
            ]
          },
          "metadata": {
            "tags": []
          },
          "execution_count": 6
        }
      ]
    },
    {
      "cell_type": "code",
      "metadata": {
        "id": "PipgR7Rb2zeO"
      },
      "source": [
        "# The feature name only appears in the first row, so we need to fill\n",
        "# the NAs with forward fill and redefine it as an Attribute column\n",
        "feat_info_attribute = feat_info['Attribute'].fillna(method='ffill')\n",
        "feat_info['Attribute'] = feat_info_attribute"
      ],
      "execution_count": 7,
      "outputs": []
    },
    {
      "cell_type": "code",
      "metadata": {
        "id": "_bRo67e93AAk"
      },
      "source": [
        "# Select the unknown/no values\n",
        "feat_info_unknown = feat_info[(feat_info['Meaning'].str.contains('unknown') | feat_info['Meaning'].str.contains('no '))]"
      ],
      "execution_count": 8,
      "outputs": []
    },
    {
      "cell_type": "code",
      "metadata": {
        "colab": {
          "base_uri": "https://localhost:8080/"
        },
        "id": "wb5siOzV3ADM",
        "outputId": "e4274c93-7da5-4a5b-f76b-d1de3b204870"
      },
      "source": [
        "feat_info_unknown.loc[feat_info['Attribute'] == 'AGER_TYP', 'Value'].astype(str).str.cat(sep=',').split(',')"
      ],
      "execution_count": 9,
      "outputs": [
        {
          "output_type": "execute_result",
          "data": {
            "text/plain": [
              "['-1', '0']"
            ]
          },
          "metadata": {
            "tags": []
          },
          "execution_count": 9
        }
      ]
    },
    {
      "cell_type": "code",
      "metadata": {
        "colab": {
          "base_uri": "https://localhost:8080/",
          "height": 200
        },
        "id": "CQDuQ2MJ3AF3",
        "outputId": "2cb1a358-b413-41f1-cf68-2e60a67e68f6"
      },
      "source": [
        "# Combine all missing values for each feature in one row,\n",
        "# instead of few as it is now for some features\n",
        "unknown_val = []\n",
        "for attribute in feat_info_unknown['Attribute'].unique():\n",
        "    val = feat_info_unknown.loc[feat_info['Attribute'] == attribute, \n",
        "                                'Value'].astype(str).str.cat(sep=',').split(',')\n",
        "    unknown_val.append(val)\n",
        "feat_info_unknown = pd.concat([pd.Series(feat_info_unknown['Attribute'].unique()), pd.Series(unknown_val)], axis=1)\n",
        "feat_info_unknown.head()"
      ],
      "execution_count": 10,
      "outputs": [
        {
          "output_type": "execute_result",
          "data": {
            "text/html": [
              "<div>\n",
              "<style scoped>\n",
              "    .dataframe tbody tr th:only-of-type {\n",
              "        vertical-align: middle;\n",
              "    }\n",
              "\n",
              "    .dataframe tbody tr th {\n",
              "        vertical-align: top;\n",
              "    }\n",
              "\n",
              "    .dataframe thead th {\n",
              "        text-align: right;\n",
              "    }\n",
              "</style>\n",
              "<table border=\"1\" class=\"dataframe\">\n",
              "  <thead>\n",
              "    <tr style=\"text-align: right;\">\n",
              "      <th></th>\n",
              "      <th>0</th>\n",
              "      <th>1</th>\n",
              "    </tr>\n",
              "  </thead>\n",
              "  <tbody>\n",
              "    <tr>\n",
              "      <th>0</th>\n",
              "      <td>AGER_TYP</td>\n",
              "      <td>[-1, 0]</td>\n",
              "    </tr>\n",
              "    <tr>\n",
              "      <th>1</th>\n",
              "      <td>ALTERSKATEGORIE_GROB</td>\n",
              "      <td>[-1,  0]</td>\n",
              "    </tr>\n",
              "    <tr>\n",
              "      <th>2</th>\n",
              "      <td>ALTER_HH</td>\n",
              "      <td>[0]</td>\n",
              "    </tr>\n",
              "    <tr>\n",
              "      <th>3</th>\n",
              "      <td>ANREDE_KZ</td>\n",
              "      <td>[-1,  0]</td>\n",
              "    </tr>\n",
              "    <tr>\n",
              "      <th>4</th>\n",
              "      <td>BALLRAUM</td>\n",
              "      <td>[-1]</td>\n",
              "    </tr>\n",
              "  </tbody>\n",
              "</table>\n",
              "</div>"
            ],
            "text/plain": [
              "                      0         1\n",
              "0              AGER_TYP   [-1, 0]\n",
              "1  ALTERSKATEGORIE_GROB  [-1,  0]\n",
              "2              ALTER_HH       [0]\n",
              "3             ANREDE_KZ  [-1,  0]\n",
              "4              BALLRAUM      [-1]"
            ]
          },
          "metadata": {
            "tags": []
          },
          "execution_count": 10
        }
      ]
    },
    {
      "cell_type": "code",
      "metadata": {
        "id": "_WXWWd6t3AIX"
      },
      "source": [
        "feat_info_unknown.columns = ['attribute', 'missing_or_unknown']"
      ],
      "execution_count": 11,
      "outputs": []
    },
    {
      "cell_type": "code",
      "metadata": {
        "id": "jo8NZblK_cAb"
      },
      "source": [
        "def missing_to_nan(df1, df2):\n",
        "  \"\"\" Convert the missing/unknown values into NaN \"\"\"\n",
        "  for row in df2['attribute']:\n",
        "      if row in df1.columns:\n",
        "          na_map = df2.loc[df2['attribute'] == row, 'missing_or_unknown'].iloc[0]\n",
        "          na_idx = df1.loc[:, row].isin(na_map)\n",
        "          df1.loc[na_idx, row] = np.nan\n",
        "      else:\n",
        "          continue\n",
        "  return df1"
      ],
      "execution_count": 12,
      "outputs": []
    },
    {
      "cell_type": "code",
      "metadata": {
        "id": "nJqa_l-5K4UV"
      },
      "source": [
        "azdias = missing_to_nan(azdias, feat_info_unknown)\n",
        "customers = missing_to_nan(customers, feat_info_unknown)"
      ],
      "execution_count": 13,
      "outputs": []
    },
    {
      "cell_type": "markdown",
      "metadata": {
        "id": "5d7YoXm5NvMR"
      },
      "source": [
        "### Investigate the NaN amount:"
      ]
    },
    {
      "cell_type": "code",
      "metadata": {
        "id": "HVCEc4s73Jck"
      },
      "source": [
        "count_nan_azdias = (azdias.isnull().sum()/len(azdias))*100\n",
        "count_nan_customers = (customers.isnull().sum()/len(customers))*100"
      ],
      "execution_count": 14,
      "outputs": []
    },
    {
      "cell_type": "code",
      "metadata": {
        "colab": {
          "base_uri": "https://localhost:8080/",
          "height": 350
        },
        "id": "7QG2M9tELi0l",
        "outputId": "569217c4-11c4-42cb-af62-b16d5088ed2c"
      },
      "source": [
        "plt.figure()\n",
        "sns.distplot(count_nan_azdias.values, kde=False, label='Azdias')\n",
        "sns.distplot(count_nan_customers.values, kde=False, label='Customers')\n",
        "plt.ylabel('Count of columns')\n",
        "plt.xlabel('% of NaN')\n",
        "plt.title('Distribution of missing values per columns')\n",
        "plt.legend()\n",
        "plt.show()"
      ],
      "execution_count": null,
      "outputs": [
        {
          "output_type": "stream",
          "text": [
            "/usr/local/lib/python3.6/dist-packages/seaborn/distributions.py:2551: FutureWarning: `distplot` is a deprecated function and will be removed in a future version. Please adapt your code to use either `displot` (a figure-level function with similar flexibility) or `histplot` (an axes-level function for histograms).\n",
            "  warnings.warn(msg, FutureWarning)\n"
          ],
          "name": "stderr"
        },
        {
          "output_type": "display_data",
          "data": {
            "image/png": "[encoded data removed]",
            "text/plain": [
              "<Figure size 432x288 with 1 Axes>"
            ]
          },
          "metadata": {
            "tags": [],
            "needs_background": "light"
          }
        }
      ]
    },
    {
      "cell_type": "code",
      "metadata": {
        "id": "QA4oRO_KLi28"
      },
      "source": [
        "# We will drop the columns where more than 30% of rows are missing\n",
        "# We take as reference the df with larger number of columns\n",
        "\n",
        "drop_cols_azdias = count_nan_azdias[count_nan_azdias > 30]\n",
        "drop_cols_customers = count_nan_customers[count_nan_customers > 30]\n",
        "\n",
        "if len(drop_cols_azdias) > len(drop_cols_customers):\n",
        "  remove_cols = drop_cols_azdias.index.tolist()\n",
        "else:\n",
        "  remove_cols = drop_cols_customers.index.tolist()\n",
        "\n",
        "azdias = azdias.drop(remove_cols, axis=1)\n",
        "customers = customers.drop(remove_cols, axis=1)"
      ],
      "execution_count": 18,
      "outputs": []
    },
    {
      "cell_type": "code",
      "metadata": {
        "colab": {
          "base_uri": "https://localhost:8080/"
        },
        "id": "KGx8zP1I0o7u",
        "outputId": "fd870784-d210-4910-9e99-58c4e76e900d"
      },
      "source": [
        "remove_cols"
      ],
      "execution_count": 26,
      "outputs": [
        {
          "output_type": "execute_result",
          "data": {
            "text/plain": [
              "['AGER_TYP',\n",
              " 'ALTER_HH',\n",
              " 'ALTER_KIND1',\n",
              " 'ALTER_KIND2',\n",
              " 'ALTER_KIND3',\n",
              " 'ALTER_KIND4',\n",
              " 'D19_BANKEN_ANZ_12',\n",
              " 'D19_BANKEN_ANZ_24',\n",
              " 'D19_BANKEN_DATUM',\n",
              " 'D19_BANKEN_OFFLINE_DATUM',\n",
              " 'D19_BANKEN_ONLINE_DATUM',\n",
              " 'D19_BANKEN_ONLINE_QUOTE_12',\n",
              " 'D19_GESAMT_ANZ_12',\n",
              " 'D19_GESAMT_ANZ_24',\n",
              " 'D19_GESAMT_DATUM',\n",
              " 'D19_GESAMT_OFFLINE_DATUM',\n",
              " 'D19_GESAMT_ONLINE_DATUM',\n",
              " 'D19_GESAMT_ONLINE_QUOTE_12',\n",
              " 'D19_TELKO_ANZ_12',\n",
              " 'D19_TELKO_ANZ_24',\n",
              " 'D19_TELKO_DATUM',\n",
              " 'D19_TELKO_OFFLINE_DATUM',\n",
              " 'D19_TELKO_ONLINE_DATUM',\n",
              " 'D19_VERSAND_ANZ_12',\n",
              " 'D19_VERSAND_ANZ_24',\n",
              " 'D19_VERSAND_DATUM',\n",
              " 'D19_VERSAND_OFFLINE_DATUM',\n",
              " 'D19_VERSAND_ONLINE_DATUM',\n",
              " 'D19_VERSAND_ONLINE_QUOTE_12',\n",
              " 'D19_VERSI_ANZ_12',\n",
              " 'D19_VERSI_ANZ_24',\n",
              " 'EXTSEL992',\n",
              " 'KBA05_ANTG1',\n",
              " 'KBA05_ANTG2',\n",
              " 'KBA05_ANTG3',\n",
              " 'KBA05_ANTG4',\n",
              " 'KBA05_BAUMAX',\n",
              " 'KBA05_MAXVORB',\n",
              " 'KK_KUNDENTYP',\n",
              " 'KKK',\n",
              " 'REGIOTYP',\n",
              " 'TITEL_KZ']"
            ]
          },
          "metadata": {
            "tags": []
          },
          "execution_count": 26
        }
      ]
    },
    {
      "cell_type": "code",
      "metadata": {
        "id": "JGKRLhF-XSQm"
      },
      "source": [
        "# Visualize the total number of missing values per column\n",
        "#count_list = []\n",
        "#nan_list = []\n",
        "#for column in azdias.columns:\n",
        "#    nan_count = azdias[column].isnull().sum()\n",
        "#    count_list.append(nan_count)\n",
        "#    nan_list.append((column, nan_count))\n",
        "\n",
        "#nan_data = pd.DataFrame(nan_list, columns=['Column', 'Count'])\n",
        "#nan_data.sort_values('Count', inplace=True, ascending=False)\n",
        "#nan_data.head()"
      ],
      "execution_count": null,
      "outputs": []
    },
    {
      "cell_type": "code",
      "metadata": {
        "colab": {
          "base_uri": "https://localhost:8080/"
        },
        "id": "JJvR0TTYXSaT",
        "outputId": "90c82bce-e1a3-44db-d5af-7379a5a4344d"
      },
      "source": [
        "print(azdias.shape, customers.shape)"
      ],
      "execution_count": null,
      "outputs": [
        {
          "output_type": "stream",
          "text": [
            "(891221, 324) (191652, 327)\n"
          ],
          "name": "stdout"
        }
      ]
    },
    {
      "cell_type": "markdown",
      "metadata": {
        "id": "2NVWhVi1z4OG"
      },
      "source": [
        "### Now we will focus on the remaining features. For that, we will look at the missing values per row.\n",
        "\n",
        "Most of the rows have less than 50 missing features, so that could be our limit."
      ]
    },
    {
      "cell_type": "code",
      "metadata": {
        "id": "B3XLXTEpWOxf"
      },
      "source": [
        "miss_row_azdias = azdias.isnull().sum(axis=1)\n",
        "miss_row_customers = customers.isnull().sum(axis=1)"
      ],
      "execution_count": null,
      "outputs": []
    },
    {
      "cell_type": "code",
      "metadata": {
        "colab": {
          "base_uri": "https://localhost:8080/",
          "height": 350
        },
        "id": "GsHcoIzkxEx4",
        "outputId": "2d161586-e8d6-4a7b-c29c-e05c9fa22cac"
      },
      "source": [
        "plt.figure()\n",
        "plt.title('Nr. of Rows vs Nr. of Missing features')\n",
        "sns.distplot(miss_row_azdias, kde=False, label='Azdias')\n",
        "sns.distplot(miss_row_customers, kde=False, label='Customers')\n",
        "plt.xlabel('Nr. of Missing Features')\n",
        "plt.ylabel('Nr. of Rows')\n",
        "plt.legend()\n",
        "plt.show()"
      ],
      "execution_count": null,
      "outputs": [
        {
          "output_type": "stream",
          "text": [
            "/usr/local/lib/python3.6/dist-packages/seaborn/distributions.py:2551: FutureWarning: `distplot` is a deprecated function and will be removed in a future version. Please adapt your code to use either `displot` (a figure-level function with similar flexibility) or `histplot` (an axes-level function for histograms).\n",
            "  warnings.warn(msg, FutureWarning)\n"
          ],
          "name": "stderr"
        },
        {
          "output_type": "display_data",
          "data": {
            "image/png": "[encoded data removed]",
            "text/plain": [
              "<Figure size 432x288 with 1 Axes>"
            ]
          },
          "metadata": {
            "tags": [],
            "needs_background": "light"
          }
        }
      ]
    },
    {
      "cell_type": "code",
      "metadata": {
        "id": "VOOrA2t3ST6n"
      },
      "source": [
        "# Remove rows with more than 50 missing features\n",
        "azdias = azdias[miss_row_azdias < 50].reset_index(drop=True)\n",
        "customers = customers[miss_row_customers < 50].reset_index(drop=True)"
      ],
      "execution_count": null,
      "outputs": []
    },
    {
      "cell_type": "markdown",
      "metadata": {
        "id": "PGpTpM9pXsJY"
      },
      "source": [
        "### Data type\n",
        "\n",
        "We converted int64 to float64 in the beginning, but we have also *object* data type."
      ]
    },
    {
      "cell_type": "code",
      "metadata": {
        "colab": {
          "base_uri": "https://localhost:8080/"
        },
        "id": "1viAMiJgJMMu",
        "outputId": "6c26df6b-404d-4080-e376-10ae3cfd6155"
      },
      "source": [
        "customers.info()"
      ],
      "execution_count": null,
      "outputs": [
        {
          "output_type": "stream",
          "text": [
            "<class 'pandas.core.frame.DataFrame'>\n",
            "RangeIndex: 134246 entries, 0 to 134245\n",
            "Columns: 327 entries, LNR to ALTERSKATEGORIE_GROB\n",
            "dtypes: float64(319), object(8)\n",
            "memory usage: 334.9+ MB\n"
          ],
          "name": "stdout"
        }
      ]
    },
    {
      "cell_type": "code",
      "metadata": {
        "colab": {
          "base_uri": "https://localhost:8080/"
        },
        "id": "44zU9StyX93X",
        "outputId": "24cbc7c5-2b23-4117-f801-b9f070ed0d6f"
      },
      "source": [
        "azdias.info()"
      ],
      "execution_count": null,
      "outputs": [
        {
          "output_type": "stream",
          "text": [
            "<class 'pandas.core.frame.DataFrame'>\n",
            "RangeIndex: 737288 entries, 0 to 737287\n",
            "Columns: 324 entries, LNR to ALTERSKATEGORIE_GROB\n",
            "dtypes: float64(318), object(6)\n",
            "memory usage: 1.8+ GB\n"
          ],
          "name": "stdout"
        }
      ]
    },
    {
      "cell_type": "code",
      "metadata": {
        "id": "MvfZvDqOJMLf"
      },
      "source": [
        "azdias_object_cols = azdias.columns[azdias.dtypes == 'object']\n",
        "customer_object_cols = customers.columns[customers.dtypes == 'object']"
      ],
      "execution_count": null,
      "outputs": []
    },
    {
      "cell_type": "code",
      "metadata": {
        "colab": {
          "base_uri": "https://localhost:8080/"
        },
        "id": "puUTlOPZY6Hv",
        "outputId": "429ed6c6-ebe6-4739-acfd-8697018148ad"
      },
      "source": [
        "print(azdias_object_cols, customer_object_cols)"
      ],
      "execution_count": null,
      "outputs": [
        {
          "output_type": "stream",
          "text": [
            "Index(['CAMEO_DEU_2015', 'CAMEO_DEUG_2015', 'CAMEO_INTL_2015',\n",
            "       'D19_LETZTER_KAUF_BRANCHE', 'EINGEFUEGT_AM', 'OST_WEST_KZ'],\n",
            "      dtype='object') Index(['CAMEO_DEU_2015', 'CAMEO_DEUG_2015', 'CAMEO_INTL_2015',\n",
            "       'D19_LETZTER_KAUF_BRANCHE', 'EINGEFUEGT_AM', 'OST_WEST_KZ',\n",
            "       'PRODUCT_GROUP', 'CUSTOMER_GROUP'],\n",
            "      dtype='object')\n"
          ],
          "name": "stdout"
        }
      ]
    },
    {
      "cell_type": "code",
      "metadata": {
        "colab": {
          "base_uri": "https://localhost:8080/"
        },
        "id": "EzLFNGh5Y6KK",
        "outputId": "cd01f949-1fdd-490b-c935-e648a7da7d4d"
      },
      "source": [
        "# Investigate further the columns with object data type\n",
        "for col in azdias_object_cols:\n",
        "    print('\\nColumn ',col)\n",
        "    print(azdias[col].value_counts())"
      ],
      "execution_count": null,
      "outputs": [
        {
          "output_type": "stream",
          "text": [
            "\n",
            "Column  CAMEO_DEU_2015\n",
            "6B    54006\n",
            "8A    50776\n",
            "4C    43988\n",
            "2D    32906\n",
            "7A    32630\n",
            "3C    32565\n",
            "3D    32176\n",
            "8B    31262\n",
            "4A    30254\n",
            "8C    30147\n",
            "9D    26746\n",
            "9B    25888\n",
            "7B    22921\n",
            "9C    22919\n",
            "9A    20057\n",
            "2C    17742\n",
            "8D    16675\n",
            "6E    15598\n",
            "5D    14071\n",
            "2B    14042\n",
            "6C    13868\n",
            "2A    11921\n",
            "1D    11457\n",
            "1A    10167\n",
            "5A     9721\n",
            "5B     9691\n",
            "5C     9050\n",
            "4B     8284\n",
            "7C     8127\n",
            "4D     8051\n",
            "6A     6416\n",
            "3A     5871\n",
            "6D     5756\n",
            "3B     5709\n",
            "6F     5048\n",
            "4E     5005\n",
            "1E     4783\n",
            "7D     4431\n",
            "7E     4375\n",
            "1C     4012\n",
            "5F     3939\n",
            "9E     3841\n",
            "1B     3815\n",
            "5E     3241\n",
            "XX      284\n",
            "Name: CAMEO_DEU_2015, dtype: int64\n",
            "\n",
            "Column  CAMEO_DEUG_2015\n",
            "8      74754\n",
            "6      58203\n",
            "9      57473\n",
            "4      55290\n",
            "8.0    54106\n",
            "2      44419\n",
            "3      44192\n",
            "6.0    42489\n",
            "9.0    41978\n",
            "7      41861\n",
            "4.0    40292\n",
            "2.0    32192\n",
            "3.0    32129\n",
            "7.0    30623\n",
            "5      28976\n",
            "5.0    20737\n",
            "1      19840\n",
            "1.0    14394\n",
            "X        284\n",
            "Name: CAMEO_DEUG_2015, dtype: int64\n",
            "\n",
            "Column  CAMEO_INTL_2015\n",
            "51      73261\n",
            "51.0    53068\n",
            "41      50263\n",
            "24      49091\n",
            "41.0    36550\n",
            "24.0    35513\n",
            "14      33995\n",
            "43      31172\n",
            "54      24641\n",
            "14.0    24480\n",
            "43.0    22834\n",
            "25      21392\n",
            "54.0    18064\n",
            "22      17423\n",
            "25.0    15789\n",
            "45      14548\n",
            "13      14004\n",
            "22.0    12831\n",
            "55      11814\n",
            "23      11576\n",
            "52      11561\n",
            "45.0    10473\n",
            "13.0    10205\n",
            "34      10026\n",
            "15       9389\n",
            "31       9329\n",
            "55.0     8702\n",
            "52.0     8496\n",
            "23.0     8288\n",
            "44       7982\n",
            "34.0     7286\n",
            "12       6871\n",
            "15.0     6851\n",
            "31.0     6808\n",
            "44.0     5886\n",
            "35       5685\n",
            "32       5674\n",
            "33       5311\n",
            "12.0     5050\n",
            "32.0     4017\n",
            "35.0     4010\n",
            "33.0     3739\n",
            "XX        284\n",
            "Name: CAMEO_INTL_2015, dtype: int64\n",
            "\n",
            "Column  D19_LETZTER_KAUF_BRANCHE\n",
            "D19_UNBEKANNT             179081\n",
            "D19_VERSICHERUNGEN         52220\n",
            "D19_SONSTIGE               40546\n",
            "D19_VOLLSORTIMENT          31292\n",
            "D19_SCHUHE                 28486\n",
            "D19_BUCH_CD                25643\n",
            "D19_VERSAND_REST           23398\n",
            "D19_DROGERIEARTIKEL        21371\n",
            "D19_BANKEN_DIREKT          20993\n",
            "D19_BEKLEIDUNG_REST        19147\n",
            "D19_HAUS_DEKO              18823\n",
            "D19_TELKO_MOBILE           13194\n",
            "D19_ENERGIE                11146\n",
            "D19_TELKO_REST             10478\n",
            "D19_BANKEN_GROSS            9558\n",
            "D19_BEKLEIDUNG_GEH          9173\n",
            "D19_KINDERARTIKEL           6416\n",
            "D19_FREIZEIT                6404\n",
            "D19_TECHNIK                 6282\n",
            "D19_LEBENSMITTEL            5814\n",
            "D19_BANKEN_REST             4709\n",
            "D19_RATGEBER                4483\n",
            "D19_NAHRUNGSERGAENZUNG      3731\n",
            "D19_DIGIT_SERV              3273\n",
            "D19_REISEN                  2808\n",
            "D19_TIERARTIKEL             2294\n",
            "D19_SAMMELARTIKEL           2243\n",
            "D19_HANDWERK                2033\n",
            "D19_WEIN_FEINKOST           1965\n",
            "D19_GARTEN                  1486\n",
            "D19_BANKEN_LOKAL            1306\n",
            "D19_BIO_OEKO                1090\n",
            "D19_BILDUNG                  876\n",
            "D19_LOTTO                    743\n",
            "D19_KOSMETIK                 711\n",
            "Name: D19_LETZTER_KAUF_BRANCHE, dtype: int64\n",
            "\n",
            "Column  EINGEFUEGT_AM\n",
            "1992-02-10 00:00:00    372246\n",
            "1992-02-12 00:00:00    187354\n",
            "1995-02-07 00:00:00     10862\n",
            "2003-11-18 00:00:00      5878\n",
            "1993-03-01 00:00:00      3060\n",
            "                        ...  \n",
            "1998-04-29 00:00:00         1\n",
            "1993-05-25 00:00:00         1\n",
            "1997-06-14 00:00:00         1\n",
            "2000-03-09 00:00:00         1\n",
            "1998-04-24 00:00:00         1\n",
            "Name: EINGEFUEGT_AM, Length: 2819, dtype: int64\n",
            "\n",
            "Column  OST_WEST_KZ\n",
            "W    582290\n",
            "O    154998\n",
            "Name: OST_WEST_KZ, dtype: int64\n"
          ],
          "name": "stdout"
        }
      ]
    },
    {
      "cell_type": "markdown",
      "metadata": {
        "id": "wdqYz7zcb-Un"
      },
      "source": [
        "* EINGEFUEGT_AM is not the attributes table, so we drop it.\n",
        "* CAMEO_DEU_2015, CAMEO_INTL_2015, D19_LETZTER_KAUF_BRANCHE have a large cardinality, which will introduce more noise in the modelling part, so we drop them.\n",
        "* We encode OST_WEST_KZ.\n",
        "* For CAMEO_DEUG_2015, there are X values, which haven't been defined in the attributes table, so we will replace it by NaN."
      ]
    },
    {
      "cell_type": "code",
      "metadata": {
        "id": "jrfLKqzWfy8W"
      },
      "source": [
        "# Drop EINGEFUEGT_AM, CAMEO_DEU_2015, CAMEO_INTL_2015:\n",
        "remove_cols2 = ['EINGEFUEGT_AM', 'CAMEO_DEU_2015', 'CAMEO_INTL_2015', 'D19_LETZTER_KAUF_BRANCHE']\n",
        "azdias = azdias.drop(remove_cols2, axis=1)\n",
        "customers = customers.drop(remove_cols2, axis=1)"
      ],
      "execution_count": null,
      "outputs": []
    },
    {
      "cell_type": "code",
      "metadata": {
        "id": "XVH_acqUY6Mr"
      },
      "source": [
        "# Encode OST_WEST_KZ\n",
        "azdias['OST_WEST_KZ'] = azdias['OST_WEST_KZ'].replace({'W': 0, 'O': 1})\n",
        "customers['OST_WEST_KZ'] = customers['OST_WEST_KZ'].replace({'W': 0, 'O': 1})"
      ],
      "execution_count": null,
      "outputs": []
    },
    {
      "cell_type": "code",
      "metadata": {
        "id": "zSkDh9rTY6PS"
      },
      "source": [
        "# Replace X by NaN in CAMEO_DEUG_2015:\n",
        "azdias['CAMEO_DEUG_2015'] = azdias['CAMEO_DEUG_2015'].replace({'X': np.nan}).astype(float)\n",
        "customers['CAMEO_DEUG_2015'] = customers['CAMEO_DEUG_2015'].replace({'X': np.nan}).astype(float)"
      ],
      "execution_count": null,
      "outputs": []
    },
    {
      "cell_type": "code",
      "metadata": {
        "id": "caLLA2G8mXFW"
      },
      "source": [
        "# Checkpoint ~~\n",
        "#azdias.to_csv('/content/drive/My Drive/DATA_SCIENCE/MLEngineer_Nanodegree/data/azdias_18.csv', header=True)\n",
        "#customers.to_csv('/content/drive/My Drive/DATA_SCIENCE/MLEngineer_Nanodegree/data/customers_18.csv', header=True)\n",
        "#azdias = pd.read_csv('/content/drive/My Drive/DATA_SCIENCE/MLEngineer_Nanodegree/data/azdias_18.csv')\n",
        "#customers = pd.read_csv('/content/drive/My Drive/DATA_SCIENCE/MLEngineer_Nanodegree/data/customers_18.csv')"
      ],
      "execution_count": 2,
      "outputs": []
    },
    {
      "cell_type": "markdown",
      "metadata": {
        "id": "RtCYzPGflYk0"
      },
      "source": [
        "### Imput the missing values\n",
        "\n",
        "We will substitute the missing values by the most common values for each feature, as it makes sense for population data. Another good option would be to substitute by the median."
      ]
    },
    {
      "cell_type": "markdown",
      "metadata": {
        "id": "o-ebakJbM3TC"
      },
      "source": [
        "For the next steps to work properly, we need to remove the three additional columns from customers (defined previously as *extra_cols_in_customers*):"
      ]
    },
    {
      "cell_type": "code",
      "metadata": {
        "id": "BjvKEaKKCu9z"
      },
      "source": [
        "# Extra features for customers dataframe:\n",
        "extra_cols_in_customers = [col for col in customers.columns if col not in azdias.columns]"
      ],
      "execution_count": 3,
      "outputs": []
    },
    {
      "cell_type": "code",
      "metadata": {
        "id": "MY2b-mI1M15q"
      },
      "source": [
        "customer_extra_cols = customers[extra_cols_in_customers]\n",
        "customers = customers.drop(extra_cols_in_customers, axis = 1)"
      ],
      "execution_count": 4,
      "outputs": []
    },
    {
      "cell_type": "code",
      "metadata": {
        "id": "2YFxX4BIY6eQ"
      },
      "source": [
        "imputer = SimpleImputer(strategy='most_frequent')"
      ],
      "execution_count": 5,
      "outputs": []
    },
    {
      "cell_type": "code",
      "metadata": {
        "id": "xqgBaM3fjNbD"
      },
      "source": [
        "azdias = pd.DataFrame(imputer.fit_transform(azdias), columns = azdias.columns)\n",
        "customers = pd.DataFrame(imputer.transform(customers), columns = customers.columns)"
      ],
      "execution_count": 6,
      "outputs": []
    },
    {
      "cell_type": "code",
      "metadata": {
        "colab": {
          "base_uri": "https://localhost:8080/"
        },
        "id": "9EfBi8qLMCN7",
        "outputId": "ef34c044-26e4-475e-c145-948ab1144166"
      },
      "source": [
        "# We can see that missing values have disappeared:\n",
        "azdias.isnull().sum()"
      ],
      "execution_count": null,
      "outputs": [
        {
          "output_type": "execute_result",
          "data": {
            "text/plain": [
              "Unnamed: 0              0\n",
              "LNR                     0\n",
              "AKT_DAT_KL              0\n",
              "ALTERSKATEGORIE_FEIN    0\n",
              "ANZ_HAUSHALTE_AKTIV     0\n",
              "                       ..\n",
              "WOHNDAUER_2008          0\n",
              "WOHNLAGE                0\n",
              "ZABEOTYP                0\n",
              "ANREDE_KZ               0\n",
              "ALTERSKATEGORIE_GROB    0\n",
              "Length: 321, dtype: int64"
            ]
          },
          "metadata": {
            "tags": []
          },
          "execution_count": 17
        }
      ]
    },
    {
      "cell_type": "markdown",
      "metadata": {
        "id": "KvIJhBMCLYw0"
      },
      "source": [
        "### Feature scaling\n",
        "We will use MinMaxScaler to have values from 0 to 1. This caling is necessary for the PCA."
      ]
    },
    {
      "cell_type": "code",
      "metadata": {
        "id": "-TG4SpdYjNiT",
        "colab": {
          "base_uri": "https://localhost:8080/"
        },
        "outputId": "e843c8ee-98e1-470e-c351-74240bb52c48"
      },
      "source": [
        "scaler = MinMaxScaler()\n",
        "scaler.fit(azdias)"
      ],
      "execution_count": 7,
      "outputs": [
        {
          "output_type": "execute_result",
          "data": {
            "text/plain": [
              "MinMaxScaler(copy=True, feature_range=(0, 1))"
            ]
          },
          "metadata": {
            "tags": []
          },
          "execution_count": 7
        }
      ]
    },
    {
      "cell_type": "code",
      "metadata": {
        "id": "ecz3oL_9jNg3"
      },
      "source": [
        "azdias = pd.DataFrame(scaler.transform(azdias), columns = azdias.columns)\n",
        "customers = pd.DataFrame(scaler.transform(customers), columns = customers.columns)"
      ],
      "execution_count": 8,
      "outputs": []
    },
    {
      "cell_type": "code",
      "metadata": {
        "colab": {
          "base_uri": "https://localhost:8080/",
          "height": 266
        },
        "id": "gmRu-ICaPK-z",
        "outputId": "159a4882-031e-4770-b773-751d944f8cf4"
      },
      "source": [
        "azdias.head()"
      ],
      "execution_count": null,
      "outputs": [
        {
          "output_type": "execute_result",
          "data": {
            "text/html": [
              "<div>\n",
              "<style scoped>\n",
              "    .dataframe tbody tr th:only-of-type {\n",
              "        vertical-align: middle;\n",
              "    }\n",
              "\n",
              "    .dataframe tbody tr th {\n",
              "        vertical-align: top;\n",
              "    }\n",
              "\n",
              "    .dataframe thead th {\n",
              "        text-align: right;\n",
              "    }\n",
              "</style>\n",
              "<table border=\"1\" class=\"dataframe\">\n",
              "  <thead>\n",
              "    <tr style=\"text-align: right;\">\n",
              "      <th></th>\n",
              "      <th>Unnamed: 0</th>\n",
              "      <th>LNR</th>\n",
              "      <th>AKT_DAT_KL</th>\n",
              "      <th>ALTERSKATEGORIE_FEIN</th>\n",
              "      <th>ANZ_HAUSHALTE_AKTIV</th>\n",
              "      <th>ANZ_HH_TITEL</th>\n",
              "      <th>ANZ_KINDER</th>\n",
              "      <th>ANZ_PERSONEN</th>\n",
              "      <th>ANZ_STATISTISCHE_HAUSHALTE</th>\n",
              "      <th>ANZ_TITEL</th>\n",
              "      <th>ARBEIT</th>\n",
              "      <th>BALLRAUM</th>\n",
              "      <th>CAMEO_DEUG_2015</th>\n",
              "      <th>CJT_GESAMTTYP</th>\n",
              "      <th>CJT_KATALOGNUTZER</th>\n",
              "      <th>CJT_TYP_1</th>\n",
              "      <th>CJT_TYP_2</th>\n",
              "      <th>CJT_TYP_3</th>\n",
              "      <th>CJT_TYP_4</th>\n",
              "      <th>CJT_TYP_5</th>\n",
              "      <th>CJT_TYP_6</th>\n",
              "      <th>D19_BANKEN_DIREKT</th>\n",
              "      <th>D19_BANKEN_GROSS</th>\n",
              "      <th>D19_BANKEN_LOKAL</th>\n",
              "      <th>D19_BANKEN_REST</th>\n",
              "      <th>D19_BEKLEIDUNG_GEH</th>\n",
              "      <th>D19_BEKLEIDUNG_REST</th>\n",
              "      <th>D19_BILDUNG</th>\n",
              "      <th>D19_BIO_OEKO</th>\n",
              "      <th>D19_BUCH_CD</th>\n",
              "      <th>D19_DIGIT_SERV</th>\n",
              "      <th>D19_DROGERIEARTIKEL</th>\n",
              "      <th>D19_ENERGIE</th>\n",
              "      <th>D19_FREIZEIT</th>\n",
              "      <th>D19_GARTEN</th>\n",
              "      <th>D19_HANDWERK</th>\n",
              "      <th>D19_HAUS_DEKO</th>\n",
              "      <th>D19_KINDERARTIKEL</th>\n",
              "      <th>D19_KONSUMTYP</th>\n",
              "      <th>D19_KONSUMTYP_MAX</th>\n",
              "      <th>...</th>\n",
              "      <th>PLZ8_HHZ</th>\n",
              "      <th>PRAEGENDE_JUGENDJAHRE</th>\n",
              "      <th>RELAT_AB</th>\n",
              "      <th>RETOURTYP_BK_S</th>\n",
              "      <th>RT_KEIN_ANREIZ</th>\n",
              "      <th>RT_SCHNAEPPCHEN</th>\n",
              "      <th>RT_UEBERGROESSE</th>\n",
              "      <th>SEMIO_DOM</th>\n",
              "      <th>SEMIO_ERL</th>\n",
              "      <th>SEMIO_FAM</th>\n",
              "      <th>SEMIO_KAEM</th>\n",
              "      <th>SEMIO_KRIT</th>\n",
              "      <th>SEMIO_KULT</th>\n",
              "      <th>SEMIO_LUST</th>\n",
              "      <th>SEMIO_MAT</th>\n",
              "      <th>SEMIO_PFLICHT</th>\n",
              "      <th>SEMIO_RAT</th>\n",
              "      <th>SEMIO_REL</th>\n",
              "      <th>SEMIO_SOZ</th>\n",
              "      <th>SEMIO_TRADV</th>\n",
              "      <th>SEMIO_VERT</th>\n",
              "      <th>SHOPPER_TYP</th>\n",
              "      <th>SOHO_KZ</th>\n",
              "      <th>STRUKTURTYP</th>\n",
              "      <th>UMFELD_ALT</th>\n",
              "      <th>UMFELD_JUNG</th>\n",
              "      <th>UNGLEICHENN_FLAG</th>\n",
              "      <th>VERDICHTUNGSRAUM</th>\n",
              "      <th>VERS_TYP</th>\n",
              "      <th>VHA</th>\n",
              "      <th>VHN</th>\n",
              "      <th>VK_DHT4A</th>\n",
              "      <th>VK_DISTANZ</th>\n",
              "      <th>VK_ZG11</th>\n",
              "      <th>W_KEIT_KIND_HH</th>\n",
              "      <th>WOHNDAUER_2008</th>\n",
              "      <th>WOHNLAGE</th>\n",
              "      <th>ZABEOTYP</th>\n",
              "      <th>ANREDE_KZ</th>\n",
              "      <th>ALTERSKATEGORIE_GROB</th>\n",
              "    </tr>\n",
              "  </thead>\n",
              "  <tbody>\n",
              "    <tr>\n",
              "      <th>0</th>\n",
              "      <td>0.000000</td>\n",
              "      <td>0.806274</td>\n",
              "      <td>1.0</td>\n",
              "      <td>0.84</td>\n",
              "      <td>0.020522</td>\n",
              "      <td>0.0</td>\n",
              "      <td>0.0</td>\n",
              "      <td>0.052632</td>\n",
              "      <td>0.032000</td>\n",
              "      <td>0.0</td>\n",
              "      <td>0.250</td>\n",
              "      <td>0.833333</td>\n",
              "      <td>0.875</td>\n",
              "      <td>0.8</td>\n",
              "      <td>0.00</td>\n",
              "      <td>1.00</td>\n",
              "      <td>1.00</td>\n",
              "      <td>0.25</td>\n",
              "      <td>0.50</td>\n",
              "      <td>0.00</td>\n",
              "      <td>0.00</td>\n",
              "      <td>0.000000</td>\n",
              "      <td>0.000000</td>\n",
              "      <td>0.0</td>\n",
              "      <td>0.000000</td>\n",
              "      <td>0.000000</td>\n",
              "      <td>0.000000</td>\n",
              "      <td>0.000000</td>\n",
              "      <td>0.0</td>\n",
              "      <td>0.000000</td>\n",
              "      <td>0.0</td>\n",
              "      <td>0.000000</td>\n",
              "      <td>0.000000</td>\n",
              "      <td>0.0</td>\n",
              "      <td>0.0</td>\n",
              "      <td>0.0</td>\n",
              "      <td>0.000000</td>\n",
              "      <td>0.0</td>\n",
              "      <td>1.000</td>\n",
              "      <td>1.000</td>\n",
              "      <td>...</td>\n",
              "      <td>1.00</td>\n",
              "      <td>0.928571</td>\n",
              "      <td>0.75</td>\n",
              "      <td>0.00</td>\n",
              "      <td>1.00</td>\n",
              "      <td>0.50</td>\n",
              "      <td>1.0</td>\n",
              "      <td>1.000000</td>\n",
              "      <td>0.166667</td>\n",
              "      <td>0.5</td>\n",
              "      <td>0.500000</td>\n",
              "      <td>0.500000</td>\n",
              "      <td>0.333333</td>\n",
              "      <td>0.166667</td>\n",
              "      <td>0.333333</td>\n",
              "      <td>1.000000</td>\n",
              "      <td>0.833333</td>\n",
              "      <td>0.500000</td>\n",
              "      <td>0.666667</td>\n",
              "      <td>0.833333</td>\n",
              "      <td>0.000000</td>\n",
              "      <td>1.000000</td>\n",
              "      <td>1.0</td>\n",
              "      <td>0.5</td>\n",
              "      <td>0.50</td>\n",
              "      <td>0.5</td>\n",
              "      <td>1.0</td>\n",
              "      <td>0.000000</td>\n",
              "      <td>1.0</td>\n",
              "      <td>0.0</td>\n",
              "      <td>1.0</td>\n",
              "      <td>0.7</td>\n",
              "      <td>0.833333</td>\n",
              "      <td>0.9</td>\n",
              "      <td>0.4</td>\n",
              "      <td>1.0</td>\n",
              "      <td>0.428571</td>\n",
              "      <td>0.8</td>\n",
              "      <td>1.0</td>\n",
              "      <td>0.000</td>\n",
              "    </tr>\n",
              "    <tr>\n",
              "      <th>1</th>\n",
              "      <td>0.000001</td>\n",
              "      <td>0.806280</td>\n",
              "      <td>1.0</td>\n",
              "      <td>0.68</td>\n",
              "      <td>0.018657</td>\n",
              "      <td>0.0</td>\n",
              "      <td>0.0</td>\n",
              "      <td>0.026316</td>\n",
              "      <td>0.018667</td>\n",
              "      <td>0.0</td>\n",
              "      <td>0.250</td>\n",
              "      <td>0.166667</td>\n",
              "      <td>0.375</td>\n",
              "      <td>0.4</td>\n",
              "      <td>0.25</td>\n",
              "      <td>0.75</td>\n",
              "      <td>0.75</td>\n",
              "      <td>0.00</td>\n",
              "      <td>0.50</td>\n",
              "      <td>0.25</td>\n",
              "      <td>0.25</td>\n",
              "      <td>0.000000</td>\n",
              "      <td>0.000000</td>\n",
              "      <td>0.0</td>\n",
              "      <td>0.000000</td>\n",
              "      <td>0.000000</td>\n",
              "      <td>0.000000</td>\n",
              "      <td>0.857143</td>\n",
              "      <td>0.0</td>\n",
              "      <td>0.000000</td>\n",
              "      <td>0.0</td>\n",
              "      <td>0.000000</td>\n",
              "      <td>0.000000</td>\n",
              "      <td>0.0</td>\n",
              "      <td>0.0</td>\n",
              "      <td>0.0</td>\n",
              "      <td>0.000000</td>\n",
              "      <td>0.0</td>\n",
              "      <td>1.000</td>\n",
              "      <td>0.875</td>\n",
              "      <td>...</td>\n",
              "      <td>0.75</td>\n",
              "      <td>1.000000</td>\n",
              "      <td>0.25</td>\n",
              "      <td>0.50</td>\n",
              "      <td>1.00</td>\n",
              "      <td>0.75</td>\n",
              "      <td>1.0</td>\n",
              "      <td>1.000000</td>\n",
              "      <td>0.833333</td>\n",
              "      <td>0.0</td>\n",
              "      <td>1.000000</td>\n",
              "      <td>1.000000</td>\n",
              "      <td>0.333333</td>\n",
              "      <td>0.500000</td>\n",
              "      <td>0.333333</td>\n",
              "      <td>0.333333</td>\n",
              "      <td>0.500000</td>\n",
              "      <td>0.333333</td>\n",
              "      <td>0.500000</td>\n",
              "      <td>0.333333</td>\n",
              "      <td>0.500000</td>\n",
              "      <td>0.666667</td>\n",
              "      <td>0.0</td>\n",
              "      <td>1.0</td>\n",
              "      <td>0.25</td>\n",
              "      <td>1.0</td>\n",
              "      <td>0.0</td>\n",
              "      <td>0.022222</td>\n",
              "      <td>0.0</td>\n",
              "      <td>0.0</td>\n",
              "      <td>0.5</td>\n",
              "      <td>0.8</td>\n",
              "      <td>0.666667</td>\n",
              "      <td>0.5</td>\n",
              "      <td>0.4</td>\n",
              "      <td>1.0</td>\n",
              "      <td>0.142857</td>\n",
              "      <td>0.8</td>\n",
              "      <td>1.0</td>\n",
              "      <td>0.250</td>\n",
              "    </tr>\n",
              "    <tr>\n",
              "      <th>2</th>\n",
              "      <td>0.000003</td>\n",
              "      <td>0.806281</td>\n",
              "      <td>0.0</td>\n",
              "      <td>0.52</td>\n",
              "      <td>0.001866</td>\n",
              "      <td>0.0</td>\n",
              "      <td>0.0</td>\n",
              "      <td>0.000000</td>\n",
              "      <td>0.005333</td>\n",
              "      <td>0.0</td>\n",
              "      <td>0.125</td>\n",
              "      <td>0.500000</td>\n",
              "      <td>0.125</td>\n",
              "      <td>0.2</td>\n",
              "      <td>0.50</td>\n",
              "      <td>0.25</td>\n",
              "      <td>0.25</td>\n",
              "      <td>0.75</td>\n",
              "      <td>0.75</td>\n",
              "      <td>1.00</td>\n",
              "      <td>0.50</td>\n",
              "      <td>0.000000</td>\n",
              "      <td>0.000000</td>\n",
              "      <td>0.0</td>\n",
              "      <td>0.000000</td>\n",
              "      <td>0.000000</td>\n",
              "      <td>0.000000</td>\n",
              "      <td>0.000000</td>\n",
              "      <td>0.0</td>\n",
              "      <td>0.857143</td>\n",
              "      <td>0.0</td>\n",
              "      <td>0.000000</td>\n",
              "      <td>0.000000</td>\n",
              "      <td>0.0</td>\n",
              "      <td>0.0</td>\n",
              "      <td>0.0</td>\n",
              "      <td>0.000000</td>\n",
              "      <td>0.0</td>\n",
              "      <td>1.000</td>\n",
              "      <td>0.875</td>\n",
              "      <td>...</td>\n",
              "      <td>0.50</td>\n",
              "      <td>0.500000</td>\n",
              "      <td>0.50</td>\n",
              "      <td>0.25</td>\n",
              "      <td>0.50</td>\n",
              "      <td>0.25</td>\n",
              "      <td>0.6</td>\n",
              "      <td>0.500000</td>\n",
              "      <td>1.000000</td>\n",
              "      <td>0.0</td>\n",
              "      <td>0.666667</td>\n",
              "      <td>0.500000</td>\n",
              "      <td>0.500000</td>\n",
              "      <td>0.500000</td>\n",
              "      <td>0.000000</td>\n",
              "      <td>0.500000</td>\n",
              "      <td>0.333333</td>\n",
              "      <td>0.166667</td>\n",
              "      <td>0.666667</td>\n",
              "      <td>0.500000</td>\n",
              "      <td>0.500000</td>\n",
              "      <td>0.333333</td>\n",
              "      <td>0.0</td>\n",
              "      <td>0.0</td>\n",
              "      <td>0.75</td>\n",
              "      <td>1.0</td>\n",
              "      <td>0.0</td>\n",
              "      <td>0.000000</td>\n",
              "      <td>0.0</td>\n",
              "      <td>0.2</td>\n",
              "      <td>0.0</td>\n",
              "      <td>0.6</td>\n",
              "      <td>0.750000</td>\n",
              "      <td>1.0</td>\n",
              "      <td>1.0</td>\n",
              "      <td>1.0</td>\n",
              "      <td>0.857143</td>\n",
              "      <td>0.4</td>\n",
              "      <td>1.0</td>\n",
              "      <td>0.375</td>\n",
              "    </tr>\n",
              "    <tr>\n",
              "      <th>3</th>\n",
              "      <td>0.000004</td>\n",
              "      <td>0.806298</td>\n",
              "      <td>0.0</td>\n",
              "      <td>0.56</td>\n",
              "      <td>0.005597</td>\n",
              "      <td>0.0</td>\n",
              "      <td>0.0</td>\n",
              "      <td>0.105263</td>\n",
              "      <td>0.008000</td>\n",
              "      <td>0.0</td>\n",
              "      <td>0.375</td>\n",
              "      <td>0.166667</td>\n",
              "      <td>0.625</td>\n",
              "      <td>0.8</td>\n",
              "      <td>0.50</td>\n",
              "      <td>0.50</td>\n",
              "      <td>0.50</td>\n",
              "      <td>0.50</td>\n",
              "      <td>0.75</td>\n",
              "      <td>0.50</td>\n",
              "      <td>0.50</td>\n",
              "      <td>0.142857</td>\n",
              "      <td>0.333333</td>\n",
              "      <td>0.0</td>\n",
              "      <td>0.857143</td>\n",
              "      <td>0.857143</td>\n",
              "      <td>0.142857</td>\n",
              "      <td>0.857143</td>\n",
              "      <td>0.0</td>\n",
              "      <td>0.857143</td>\n",
              "      <td>0.0</td>\n",
              "      <td>0.142857</td>\n",
              "      <td>0.714286</td>\n",
              "      <td>0.0</td>\n",
              "      <td>0.0</td>\n",
              "      <td>0.0</td>\n",
              "      <td>0.714286</td>\n",
              "      <td>0.0</td>\n",
              "      <td>0.000</td>\n",
              "      <td>0.000</td>\n",
              "      <td>...</td>\n",
              "      <td>0.50</td>\n",
              "      <td>0.500000</td>\n",
              "      <td>1.00</td>\n",
              "      <td>1.00</td>\n",
              "      <td>0.50</td>\n",
              "      <td>1.00</td>\n",
              "      <td>1.0</td>\n",
              "      <td>0.166667</td>\n",
              "      <td>0.500000</td>\n",
              "      <td>0.5</td>\n",
              "      <td>0.166667</td>\n",
              "      <td>0.333333</td>\n",
              "      <td>0.833333</td>\n",
              "      <td>0.500000</td>\n",
              "      <td>0.166667</td>\n",
              "      <td>0.500000</td>\n",
              "      <td>0.166667</td>\n",
              "      <td>0.500000</td>\n",
              "      <td>0.833333</td>\n",
              "      <td>0.166667</td>\n",
              "      <td>1.000000</td>\n",
              "      <td>0.666667</td>\n",
              "      <td>0.0</td>\n",
              "      <td>1.0</td>\n",
              "      <td>0.75</td>\n",
              "      <td>0.5</td>\n",
              "      <td>0.0</td>\n",
              "      <td>0.022222</td>\n",
              "      <td>1.0</td>\n",
              "      <td>0.0</td>\n",
              "      <td>0.5</td>\n",
              "      <td>0.2</td>\n",
              "      <td>0.333333</td>\n",
              "      <td>0.3</td>\n",
              "      <td>0.2</td>\n",
              "      <td>1.0</td>\n",
              "      <td>0.285714</td>\n",
              "      <td>0.6</td>\n",
              "      <td>0.0</td>\n",
              "      <td>0.250</td>\n",
              "    </tr>\n",
              "    <tr>\n",
              "      <th>4</th>\n",
              "      <td>0.000005</td>\n",
              "      <td>0.806301</td>\n",
              "      <td>0.0</td>\n",
              "      <td>0.40</td>\n",
              "      <td>0.009328</td>\n",
              "      <td>0.0</td>\n",
              "      <td>0.0</td>\n",
              "      <td>0.026316</td>\n",
              "      <td>0.005333</td>\n",
              "      <td>0.0</td>\n",
              "      <td>0.125</td>\n",
              "      <td>0.833333</td>\n",
              "      <td>0.875</td>\n",
              "      <td>0.2</td>\n",
              "      <td>1.00</td>\n",
              "      <td>0.25</td>\n",
              "      <td>0.00</td>\n",
              "      <td>1.00</td>\n",
              "      <td>1.00</td>\n",
              "      <td>0.50</td>\n",
              "      <td>0.50</td>\n",
              "      <td>0.000000</td>\n",
              "      <td>0.000000</td>\n",
              "      <td>0.0</td>\n",
              "      <td>0.000000</td>\n",
              "      <td>0.000000</td>\n",
              "      <td>0.000000</td>\n",
              "      <td>0.000000</td>\n",
              "      <td>0.0</td>\n",
              "      <td>0.000000</td>\n",
              "      <td>0.0</td>\n",
              "      <td>0.000000</td>\n",
              "      <td>0.428571</td>\n",
              "      <td>0.0</td>\n",
              "      <td>0.0</td>\n",
              "      <td>0.0</td>\n",
              "      <td>0.000000</td>\n",
              "      <td>0.0</td>\n",
              "      <td>0.375</td>\n",
              "      <td>0.000</td>\n",
              "      <td>...</td>\n",
              "      <td>1.00</td>\n",
              "      <td>0.142857</td>\n",
              "      <td>0.50</td>\n",
              "      <td>0.50</td>\n",
              "      <td>0.75</td>\n",
              "      <td>0.75</td>\n",
              "      <td>0.6</td>\n",
              "      <td>0.500000</td>\n",
              "      <td>0.166667</td>\n",
              "      <td>0.5</td>\n",
              "      <td>0.500000</td>\n",
              "      <td>0.500000</td>\n",
              "      <td>0.666667</td>\n",
              "      <td>0.166667</td>\n",
              "      <td>0.500000</td>\n",
              "      <td>1.000000</td>\n",
              "      <td>1.000000</td>\n",
              "      <td>1.000000</td>\n",
              "      <td>0.166667</td>\n",
              "      <td>0.833333</td>\n",
              "      <td>0.166667</td>\n",
              "      <td>0.000000</td>\n",
              "      <td>0.0</td>\n",
              "      <td>0.5</td>\n",
              "      <td>0.50</td>\n",
              "      <td>0.5</td>\n",
              "      <td>0.0</td>\n",
              "      <td>0.000000</td>\n",
              "      <td>1.0</td>\n",
              "      <td>0.0</td>\n",
              "      <td>0.5</td>\n",
              "      <td>0.9</td>\n",
              "      <td>0.500000</td>\n",
              "      <td>0.3</td>\n",
              "      <td>1.0</td>\n",
              "      <td>1.0</td>\n",
              "      <td>0.857143</td>\n",
              "      <td>0.6</td>\n",
              "      <td>1.0</td>\n",
              "      <td>0.000</td>\n",
              "    </tr>\n",
              "  </tbody>\n",
              "</table>\n",
              "<p>5 rows × 321 columns</p>\n",
              "</div>"
            ],
            "text/plain": [
              "   Unnamed: 0       LNR  AKT_DAT_KL  ...  ZABEOTYP  ANREDE_KZ  ALTERSKATEGORIE_GROB\n",
              "0    0.000000  0.806274         1.0  ...       0.8        1.0                 0.000\n",
              "1    0.000001  0.806280         1.0  ...       0.8        1.0                 0.250\n",
              "2    0.000003  0.806281         0.0  ...       0.4        1.0                 0.375\n",
              "3    0.000004  0.806298         0.0  ...       0.6        0.0                 0.250\n",
              "4    0.000005  0.806301         0.0  ...       0.6        1.0                 0.000\n",
              "\n",
              "[5 rows x 321 columns]"
            ]
          },
          "metadata": {
            "tags": []
          },
          "execution_count": 22
        }
      ]
    },
    {
      "cell_type": "markdown",
      "metadata": {
        "id": "euTp32m3P_-E"
      },
      "source": [
        "## Part 1: Customer Segmentation Report\n",
        "\n",
        "The main bulk of your analysis will come in this part of the project. Here, you should use unsupervised learning techniques to describe the relationship between the demographics of the company's existing customers and the general population of Germany. By the end of this part, you should be able to describe parts of the general population that are more likely to be part of the mail-order company's main customer base, and which parts of the general population are less so."
      ]
    },
    {
      "cell_type": "code",
      "metadata": {
        "colab": {
          "base_uri": "https://localhost:8080/"
        },
        "id": "uZY_aInyPLDn",
        "outputId": "d2d0641c-9fe7-4321-ec43-a2f53157e6c3"
      },
      "source": [
        "# We retain the number of PCs that represent at least 90% of variance\n",
        "my_pca = PCA(n_components=0.90, svd_solver='full', random_state=SEED)\n",
        "my_pca.fit(azdias)\n",
        "azdias_pca = my_pca.transform(azdias)\n",
        "customers_pca = my_pca.transform(customers)\n",
        "# 152 PCs from total 321:\n",
        "azdias_pca.shape[1]\n",
        "# To check the variance explained by each PC:\n",
        "# my_pca.explained_variance_ratio_"
      ],
      "execution_count": null,
      "outputs": [
        {
          "output_type": "execute_result",
          "data": {
            "text/plain": [
              "152"
            ]
          },
          "metadata": {
            "tags": []
          },
          "execution_count": 10
        }
      ]
    },
    {
      "cell_type": "markdown",
      "metadata": {
        "id": "hzRMc61Lbjvb"
      },
      "source": [
        "### K-means clustering\n",
        "We have to group the population in different clusters, with common characteristics."
      ]
    },
    {
      "cell_type": "code",
      "metadata": {
        "id": "mVtWOlUvvpPu"
      },
      "source": [
        "# We test a range of different clusters, which will be evaluated by the elbow method\n",
        "scores = []\n",
        "for cluster in range(2, 15, 1):\n",
        "    kmean = KMeans(n_clusters=cluster, init='k-means++', \n",
        "                   random_state=SEED, max_iter=300)\n",
        "    model = kmean.fit(azdias_pca)\n",
        "    scores.append(np.abs(model.score(azdias_pca)))"
      ],
      "execution_count": null,
      "outputs": []
    },
    {
      "cell_type": "code",
      "metadata": {
        "colab": {
          "base_uri": "https://localhost:8080/",
          "height": 295
        },
        "id": "BuAQBpRwx8wY",
        "outputId": "2bff5203-5365-4ef9-f258-8b81d9752c52"
      },
      "source": [
        "# Plot the change in within-cluster distances across the number of clusters\n",
        "\n",
        "plt.figure()\n",
        "plt.plot(range(2, 15, 1), scores, linestyle='--', marker='o', color='b')\n",
        "plt.xlabel('Nr of clusters (k)')\n",
        "plt.ylabel('Sum of Squared Errors (SSE)')\n",
        "plt.title('SSE vs. K')\n",
        "plt.show()"
      ],
      "execution_count": null,
      "outputs": [
        {
          "output_type": "display_data",
          "data": {
            "image/png": "[encoded data removed]",
            "text/plain": [
              "<Figure size 432x288 with 1 Axes>"
            ]
          },
          "metadata": {
            "tags": [],
            "needs_background": "light"
          }
        }
      ]
    },
    {
      "cell_type": "code",
      "metadata": {
        "id": "y3ieJrNnywmE"
      },
      "source": [
        "# We select 7 clusters\n",
        "kmeans_azdias = KMeans(n_clusters=7, init='k-means++', \n",
        "                   random_state=SEED, max_iter=300).fit(azdias_pca)"
      ],
      "execution_count": null,
      "outputs": []
    },
    {
      "cell_type": "code",
      "metadata": {
        "id": "JV0g0dFS8R6i"
      },
      "source": [
        "azdias_clusters = kmeans_azdias.predict(azdias_pca)\n",
        "customers_clusters = kmeans_azdias.predict(customers_pca)"
      ],
      "execution_count": null,
      "outputs": []
    },
    {
      "cell_type": "markdown",
      "metadata": {
        "id": "k8NbcpHb-DhF"
      },
      "source": [
        "### We now **compare** the demographic data (*azdias*) and the customer data (*customers_clusters*)"
      ]
    },
    {
      "cell_type": "code",
      "metadata": {
        "id": "tbZtIviPvpSL"
      },
      "source": [
        "cluster_general = pd.Series(azdias_clusters).value_counts().sort_index()\n",
        "cluster_general.index = [1,2,3,4,5,6,7]"
      ],
      "execution_count": null,
      "outputs": []
    },
    {
      "cell_type": "code",
      "metadata": {
        "id": "J4Lzw-LXBaqU"
      },
      "source": [
        "cluster_customers = pd.Series(customers_clusters).value_counts().sort_index()\n",
        "cluster_customers.index = [1,2,3,4,5,6,7]"
      ],
      "execution_count": null,
      "outputs": []
    },
    {
      "cell_type": "code",
      "metadata": {
        "id": "10nKuJUKBpAb"
      },
      "source": [
        "# CHECKPOINT!!! ~~~~~~~~~\n",
        "#cluster_general.to_csv('/content/drive/My Drive/DATA_SCIENCE/MLEngineer_Nanodegree/data/azdias_clusters.csv', header=True)\n",
        "#cluster_customers.to_csv('/content/drive/My Drive/DATA_SCIENCE/MLEngineer_Nanodegree/data/customers_clusters.csv', header=True)\n",
        "#cluster_general = pd.read_csv('/content/drive/My Drive/DATA_SCIENCE/MLEngineer_Nanodegree/data/azdias_clusters.csv',  index_col=False, header=0)\n",
        "#cluster_customers = pd.read_csv('/content/drive/My Drive/DATA_SCIENCE/MLEngineer_Nanodegree/data/customers_clusters.csv', index_col=False, header = 0)"
      ],
      "execution_count": null,
      "outputs": []
    },
    {
      "cell_type": "code",
      "metadata": {
        "id": "OP-Sbh8fxXhe"
      },
      "source": [
        "prop_general = []\n",
        "for value in cluster_general:\n",
        "    prop = (value / len(azdias_clusters))*100\n",
        "    prop_general.append(prop)\n",
        "\n",
        "prop_cluster_general = pd.Series(prop_general)\n",
        "prop_cluster_general.index = [1,2,3,4,5,6,7]\n",
        "# --------------------------------------------------\n",
        "prop_customers = []\n",
        "for value in cluster_customers:\n",
        "    prop = (value / len(customers_clusters))*100\n",
        "    prop_customers.append(prop)\n",
        "\n",
        "prop_cluster_customers = pd.Series(prop_customers)\n",
        "prop_cluster_customers.index = [1,2,3,4,5,6,7]"
      ],
      "execution_count": null,
      "outputs": []
    },
    {
      "cell_type": "code",
      "metadata": {
        "id": "DZHxJ1RlasR6",
        "colab": {
          "base_uri": "https://localhost:8080/",
          "height": 531
        },
        "outputId": "aad187cd-0320-4e96-e52c-5e8a5269be45"
      },
      "source": [
        "# Compare the proportion of data in each cluster for the general population\n",
        "# and the customers\n",
        "\n",
        "prop = pd.DataFrame({'General Population': prop_cluster_general,\n",
        "                     'Customers': prop_cluster_customers})\n",
        "ax = prop.plot.bar(rot=0, figsize=(15, 8), title = 'Proportion of clusters per data')\n",
        "ax.set_xlabel('Cluster')\n",
        "ax.set_ylabel('%')"
      ],
      "execution_count": null,
      "outputs": [
        {
          "output_type": "execute_result",
          "data": {
            "text/plain": [
              "Text(0, 0.5, '%')"
            ]
          },
          "metadata": {
            "tags": []
          },
          "execution_count": 35
        },
        {
          "output_type": "display_data",
          "data": {
            "image/png": "[encoded data removed]",
            "text/plain": [
              "<Figure size 1080x576 with 1 Axes>"
            ]
          },
          "metadata": {
            "tags": [],
            "needs_background": "light"
          }
        }
      ]
    },
    {
      "cell_type": "markdown",
      "metadata": {
        "id": "x50VlTkn23OH"
      },
      "source": [
        "We can produce again the original values (undoing the scaling and the PCA), to check what characterizes the clusters where customers are in a larger proportion (i.e. 1, 3 and 5):"
      ]
    },
    {
      "cell_type": "code",
      "metadata": {
        "colab": {
          "base_uri": "https://localhost:8080/",
          "height": 266
        },
        "id": "CQK67fyHNUGQ",
        "outputId": "d4d57631-f30a-427a-a5dd-1b3030cc124b"
      },
      "source": [
        "# Cluster 1\n",
        "over1 = scaler.inverse_transform(my_pca.inverse_transform(customers_pca[np.where(customers_clusters==0)])).round()\n",
        "df_over1 = pd.DataFrame(data=over1, columns=customers.columns)\n",
        "df_over1.head()"
      ],
      "execution_count": null,
      "outputs": [
        {
          "output_type": "execute_result",
          "data": {
            "text/html": [
              "<div>\n",
              "<style scoped>\n",
              "    .dataframe tbody tr th:only-of-type {\n",
              "        vertical-align: middle;\n",
              "    }\n",
              "\n",
              "    .dataframe tbody tr th {\n",
              "        vertical-align: top;\n",
              "    }\n",
              "\n",
              "    .dataframe thead th {\n",
              "        text-align: right;\n",
              "    }\n",
              "</style>\n",
              "<table border=\"1\" class=\"dataframe\">\n",
              "  <thead>\n",
              "    <tr style=\"text-align: right;\">\n",
              "      <th></th>\n",
              "      <th>Unnamed: 0</th>\n",
              "      <th>LNR</th>\n",
              "      <th>AKT_DAT_KL</th>\n",
              "      <th>ALTERSKATEGORIE_FEIN</th>\n",
              "      <th>ANZ_HAUSHALTE_AKTIV</th>\n",
              "      <th>ANZ_HH_TITEL</th>\n",
              "      <th>ANZ_KINDER</th>\n",
              "      <th>ANZ_PERSONEN</th>\n",
              "      <th>ANZ_STATISTISCHE_HAUSHALTE</th>\n",
              "      <th>ANZ_TITEL</th>\n",
              "      <th>ARBEIT</th>\n",
              "      <th>BALLRAUM</th>\n",
              "      <th>CAMEO_DEUG_2015</th>\n",
              "      <th>CJT_GESAMTTYP</th>\n",
              "      <th>CJT_KATALOGNUTZER</th>\n",
              "      <th>CJT_TYP_1</th>\n",
              "      <th>CJT_TYP_2</th>\n",
              "      <th>CJT_TYP_3</th>\n",
              "      <th>CJT_TYP_4</th>\n",
              "      <th>CJT_TYP_5</th>\n",
              "      <th>CJT_TYP_6</th>\n",
              "      <th>D19_BANKEN_DIREKT</th>\n",
              "      <th>D19_BANKEN_GROSS</th>\n",
              "      <th>D19_BANKEN_LOKAL</th>\n",
              "      <th>D19_BANKEN_REST</th>\n",
              "      <th>D19_BEKLEIDUNG_GEH</th>\n",
              "      <th>D19_BEKLEIDUNG_REST</th>\n",
              "      <th>D19_BILDUNG</th>\n",
              "      <th>D19_BIO_OEKO</th>\n",
              "      <th>D19_BUCH_CD</th>\n",
              "      <th>D19_DIGIT_SERV</th>\n",
              "      <th>D19_DROGERIEARTIKEL</th>\n",
              "      <th>D19_ENERGIE</th>\n",
              "      <th>D19_FREIZEIT</th>\n",
              "      <th>D19_GARTEN</th>\n",
              "      <th>D19_HANDWERK</th>\n",
              "      <th>D19_HAUS_DEKO</th>\n",
              "      <th>D19_KINDERARTIKEL</th>\n",
              "      <th>D19_KONSUMTYP</th>\n",
              "      <th>D19_KONSUMTYP_MAX</th>\n",
              "      <th>...</th>\n",
              "      <th>PLZ8_HHZ</th>\n",
              "      <th>PRAEGENDE_JUGENDJAHRE</th>\n",
              "      <th>RELAT_AB</th>\n",
              "      <th>RETOURTYP_BK_S</th>\n",
              "      <th>RT_KEIN_ANREIZ</th>\n",
              "      <th>RT_SCHNAEPPCHEN</th>\n",
              "      <th>RT_UEBERGROESSE</th>\n",
              "      <th>SEMIO_DOM</th>\n",
              "      <th>SEMIO_ERL</th>\n",
              "      <th>SEMIO_FAM</th>\n",
              "      <th>SEMIO_KAEM</th>\n",
              "      <th>SEMIO_KRIT</th>\n",
              "      <th>SEMIO_KULT</th>\n",
              "      <th>SEMIO_LUST</th>\n",
              "      <th>SEMIO_MAT</th>\n",
              "      <th>SEMIO_PFLICHT</th>\n",
              "      <th>SEMIO_RAT</th>\n",
              "      <th>SEMIO_REL</th>\n",
              "      <th>SEMIO_SOZ</th>\n",
              "      <th>SEMIO_TRADV</th>\n",
              "      <th>SEMIO_VERT</th>\n",
              "      <th>SHOPPER_TYP</th>\n",
              "      <th>SOHO_KZ</th>\n",
              "      <th>STRUKTURTYP</th>\n",
              "      <th>UMFELD_ALT</th>\n",
              "      <th>UMFELD_JUNG</th>\n",
              "      <th>UNGLEICHENN_FLAG</th>\n",
              "      <th>VERDICHTUNGSRAUM</th>\n",
              "      <th>VERS_TYP</th>\n",
              "      <th>VHA</th>\n",
              "      <th>VHN</th>\n",
              "      <th>VK_DHT4A</th>\n",
              "      <th>VK_DISTANZ</th>\n",
              "      <th>VK_ZG11</th>\n",
              "      <th>W_KEIT_KIND_HH</th>\n",
              "      <th>WOHNDAUER_2008</th>\n",
              "      <th>WOHNLAGE</th>\n",
              "      <th>ZABEOTYP</th>\n",
              "      <th>ANREDE_KZ</th>\n",
              "      <th>ALTERSKATEGORIE_GROB</th>\n",
              "    </tr>\n",
              "  </thead>\n",
              "  <tbody>\n",
              "    <tr>\n",
              "      <th>0</th>\n",
              "      <td>-5962.0</td>\n",
              "      <td>429799.0</td>\n",
              "      <td>1.0</td>\n",
              "      <td>8.0</td>\n",
              "      <td>5.0</td>\n",
              "      <td>0.0</td>\n",
              "      <td>-0.0</td>\n",
              "      <td>1.0</td>\n",
              "      <td>5.0</td>\n",
              "      <td>0.0</td>\n",
              "      <td>2.0</td>\n",
              "      <td>7.0</td>\n",
              "      <td>5.0</td>\n",
              "      <td>2.0</td>\n",
              "      <td>5.0</td>\n",
              "      <td>1.0</td>\n",
              "      <td>1.0</td>\n",
              "      <td>6.0</td>\n",
              "      <td>4.0</td>\n",
              "      <td>5.0</td>\n",
              "      <td>5.0</td>\n",
              "      <td>0.0</td>\n",
              "      <td>-0.0</td>\n",
              "      <td>0.0</td>\n",
              "      <td>0.0</td>\n",
              "      <td>1.0</td>\n",
              "      <td>-0.0</td>\n",
              "      <td>-0.0</td>\n",
              "      <td>0.0</td>\n",
              "      <td>6.0</td>\n",
              "      <td>0.0</td>\n",
              "      <td>0.0</td>\n",
              "      <td>0.0</td>\n",
              "      <td>0.0</td>\n",
              "      <td>0.0</td>\n",
              "      <td>0.0</td>\n",
              "      <td>-0.0</td>\n",
              "      <td>-0.0</td>\n",
              "      <td>3.0</td>\n",
              "      <td>2.0</td>\n",
              "      <td>...</td>\n",
              "      <td>3.0</td>\n",
              "      <td>3.0</td>\n",
              "      <td>1.0</td>\n",
              "      <td>3.0</td>\n",
              "      <td>1.0</td>\n",
              "      <td>5.0</td>\n",
              "      <td>2.0</td>\n",
              "      <td>3.0</td>\n",
              "      <td>4.0</td>\n",
              "      <td>5.0</td>\n",
              "      <td>2.0</td>\n",
              "      <td>3.0</td>\n",
              "      <td>5.0</td>\n",
              "      <td>5.0</td>\n",
              "      <td>4.0</td>\n",
              "      <td>3.0</td>\n",
              "      <td>3.0</td>\n",
              "      <td>4.0</td>\n",
              "      <td>6.0</td>\n",
              "      <td>3.0</td>\n",
              "      <td>6.0</td>\n",
              "      <td>0.0</td>\n",
              "      <td>0.0</td>\n",
              "      <td>1.0</td>\n",
              "      <td>3.0</td>\n",
              "      <td>4.0</td>\n",
              "      <td>-0.0</td>\n",
              "      <td>2.0</td>\n",
              "      <td>1.0</td>\n",
              "      <td>1.0</td>\n",
              "      <td>2.0</td>\n",
              "      <td>6.0</td>\n",
              "      <td>6.0</td>\n",
              "      <td>4.0</td>\n",
              "      <td>6.0</td>\n",
              "      <td>8.0</td>\n",
              "      <td>6.0</td>\n",
              "      <td>1.0</td>\n",
              "      <td>1.0</td>\n",
              "      <td>3.0</td>\n",
              "    </tr>\n",
              "    <tr>\n",
              "      <th>1</th>\n",
              "      <td>-8010.0</td>\n",
              "      <td>376190.0</td>\n",
              "      <td>1.0</td>\n",
              "      <td>10.0</td>\n",
              "      <td>-2.0</td>\n",
              "      <td>-0.0</td>\n",
              "      <td>-0.0</td>\n",
              "      <td>2.0</td>\n",
              "      <td>-1.0</td>\n",
              "      <td>0.0</td>\n",
              "      <td>2.0</td>\n",
              "      <td>6.0</td>\n",
              "      <td>4.0</td>\n",
              "      <td>2.0</td>\n",
              "      <td>5.0</td>\n",
              "      <td>2.0</td>\n",
              "      <td>1.0</td>\n",
              "      <td>5.0</td>\n",
              "      <td>5.0</td>\n",
              "      <td>5.0</td>\n",
              "      <td>5.0</td>\n",
              "      <td>-0.0</td>\n",
              "      <td>0.0</td>\n",
              "      <td>0.0</td>\n",
              "      <td>0.0</td>\n",
              "      <td>6.0</td>\n",
              "      <td>6.0</td>\n",
              "      <td>5.0</td>\n",
              "      <td>2.0</td>\n",
              "      <td>-0.0</td>\n",
              "      <td>1.0</td>\n",
              "      <td>4.0</td>\n",
              "      <td>0.0</td>\n",
              "      <td>0.0</td>\n",
              "      <td>1.0</td>\n",
              "      <td>6.0</td>\n",
              "      <td>6.0</td>\n",
              "      <td>-0.0</td>\n",
              "      <td>2.0</td>\n",
              "      <td>2.0</td>\n",
              "      <td>...</td>\n",
              "      <td>5.0</td>\n",
              "      <td>6.0</td>\n",
              "      <td>2.0</td>\n",
              "      <td>5.0</td>\n",
              "      <td>3.0</td>\n",
              "      <td>5.0</td>\n",
              "      <td>4.0</td>\n",
              "      <td>2.0</td>\n",
              "      <td>3.0</td>\n",
              "      <td>4.0</td>\n",
              "      <td>2.0</td>\n",
              "      <td>3.0</td>\n",
              "      <td>5.0</td>\n",
              "      <td>5.0</td>\n",
              "      <td>1.0</td>\n",
              "      <td>3.0</td>\n",
              "      <td>3.0</td>\n",
              "      <td>4.0</td>\n",
              "      <td>4.0</td>\n",
              "      <td>3.0</td>\n",
              "      <td>6.0</td>\n",
              "      <td>-0.0</td>\n",
              "      <td>0.0</td>\n",
              "      <td>1.0</td>\n",
              "      <td>4.0</td>\n",
              "      <td>5.0</td>\n",
              "      <td>0.0</td>\n",
              "      <td>1.0</td>\n",
              "      <td>1.0</td>\n",
              "      <td>0.0</td>\n",
              "      <td>4.0</td>\n",
              "      <td>4.0</td>\n",
              "      <td>4.0</td>\n",
              "      <td>1.0</td>\n",
              "      <td>6.0</td>\n",
              "      <td>9.0</td>\n",
              "      <td>7.0</td>\n",
              "      <td>1.0</td>\n",
              "      <td>1.0</td>\n",
              "      <td>3.0</td>\n",
              "    </tr>\n",
              "    <tr>\n",
              "      <th>2</th>\n",
              "      <td>-7048.0</td>\n",
              "      <td>384229.0</td>\n",
              "      <td>1.0</td>\n",
              "      <td>12.0</td>\n",
              "      <td>-3.0</td>\n",
              "      <td>0.0</td>\n",
              "      <td>-0.0</td>\n",
              "      <td>1.0</td>\n",
              "      <td>-3.0</td>\n",
              "      <td>0.0</td>\n",
              "      <td>2.0</td>\n",
              "      <td>6.0</td>\n",
              "      <td>3.0</td>\n",
              "      <td>3.0</td>\n",
              "      <td>3.0</td>\n",
              "      <td>1.0</td>\n",
              "      <td>1.0</td>\n",
              "      <td>5.0</td>\n",
              "      <td>5.0</td>\n",
              "      <td>5.0</td>\n",
              "      <td>5.0</td>\n",
              "      <td>0.0</td>\n",
              "      <td>-0.0</td>\n",
              "      <td>0.0</td>\n",
              "      <td>1.0</td>\n",
              "      <td>-1.0</td>\n",
              "      <td>3.0</td>\n",
              "      <td>4.0</td>\n",
              "      <td>1.0</td>\n",
              "      <td>1.0</td>\n",
              "      <td>0.0</td>\n",
              "      <td>-0.0</td>\n",
              "      <td>2.0</td>\n",
              "      <td>3.0</td>\n",
              "      <td>1.0</td>\n",
              "      <td>0.0</td>\n",
              "      <td>2.0</td>\n",
              "      <td>2.0</td>\n",
              "      <td>1.0</td>\n",
              "      <td>-0.0</td>\n",
              "      <td>...</td>\n",
              "      <td>3.0</td>\n",
              "      <td>7.0</td>\n",
              "      <td>1.0</td>\n",
              "      <td>5.0</td>\n",
              "      <td>1.0</td>\n",
              "      <td>4.0</td>\n",
              "      <td>3.0</td>\n",
              "      <td>3.0</td>\n",
              "      <td>4.0</td>\n",
              "      <td>5.0</td>\n",
              "      <td>2.0</td>\n",
              "      <td>2.0</td>\n",
              "      <td>5.0</td>\n",
              "      <td>7.0</td>\n",
              "      <td>6.0</td>\n",
              "      <td>3.0</td>\n",
              "      <td>3.0</td>\n",
              "      <td>5.0</td>\n",
              "      <td>6.0</td>\n",
              "      <td>4.0</td>\n",
              "      <td>7.0</td>\n",
              "      <td>-0.0</td>\n",
              "      <td>0.0</td>\n",
              "      <td>2.0</td>\n",
              "      <td>2.0</td>\n",
              "      <td>5.0</td>\n",
              "      <td>0.0</td>\n",
              "      <td>7.0</td>\n",
              "      <td>1.0</td>\n",
              "      <td>1.0</td>\n",
              "      <td>3.0</td>\n",
              "      <td>3.0</td>\n",
              "      <td>4.0</td>\n",
              "      <td>3.0</td>\n",
              "      <td>6.0</td>\n",
              "      <td>3.0</td>\n",
              "      <td>3.0</td>\n",
              "      <td>1.0</td>\n",
              "      <td>1.0</td>\n",
              "      <td>3.0</td>\n",
              "    </tr>\n",
              "    <tr>\n",
              "      <th>3</th>\n",
              "      <td>-9435.0</td>\n",
              "      <td>380249.0</td>\n",
              "      <td>1.0</td>\n",
              "      <td>15.0</td>\n",
              "      <td>-2.0</td>\n",
              "      <td>-0.0</td>\n",
              "      <td>0.0</td>\n",
              "      <td>1.0</td>\n",
              "      <td>-2.0</td>\n",
              "      <td>-0.0</td>\n",
              "      <td>4.0</td>\n",
              "      <td>6.0</td>\n",
              "      <td>4.0</td>\n",
              "      <td>4.0</td>\n",
              "      <td>1.0</td>\n",
              "      <td>3.0</td>\n",
              "      <td>2.0</td>\n",
              "      <td>3.0</td>\n",
              "      <td>3.0</td>\n",
              "      <td>4.0</td>\n",
              "      <td>4.0</td>\n",
              "      <td>-0.0</td>\n",
              "      <td>-0.0</td>\n",
              "      <td>-0.0</td>\n",
              "      <td>0.0</td>\n",
              "      <td>1.0</td>\n",
              "      <td>6.0</td>\n",
              "      <td>-0.0</td>\n",
              "      <td>0.0</td>\n",
              "      <td>0.0</td>\n",
              "      <td>0.0</td>\n",
              "      <td>0.0</td>\n",
              "      <td>0.0</td>\n",
              "      <td>0.0</td>\n",
              "      <td>0.0</td>\n",
              "      <td>0.0</td>\n",
              "      <td>3.0</td>\n",
              "      <td>0.0</td>\n",
              "      <td>3.0</td>\n",
              "      <td>2.0</td>\n",
              "      <td>...</td>\n",
              "      <td>3.0</td>\n",
              "      <td>9.0</td>\n",
              "      <td>5.0</td>\n",
              "      <td>2.0</td>\n",
              "      <td>3.0</td>\n",
              "      <td>3.0</td>\n",
              "      <td>3.0</td>\n",
              "      <td>6.0</td>\n",
              "      <td>7.0</td>\n",
              "      <td>1.0</td>\n",
              "      <td>6.0</td>\n",
              "      <td>6.0</td>\n",
              "      <td>1.0</td>\n",
              "      <td>7.0</td>\n",
              "      <td>1.0</td>\n",
              "      <td>1.0</td>\n",
              "      <td>2.0</td>\n",
              "      <td>1.0</td>\n",
              "      <td>1.0</td>\n",
              "      <td>1.0</td>\n",
              "      <td>3.0</td>\n",
              "      <td>3.0</td>\n",
              "      <td>0.0</td>\n",
              "      <td>3.0</td>\n",
              "      <td>3.0</td>\n",
              "      <td>4.0</td>\n",
              "      <td>0.0</td>\n",
              "      <td>13.0</td>\n",
              "      <td>2.0</td>\n",
              "      <td>1.0</td>\n",
              "      <td>4.0</td>\n",
              "      <td>6.0</td>\n",
              "      <td>8.0</td>\n",
              "      <td>7.0</td>\n",
              "      <td>6.0</td>\n",
              "      <td>7.0</td>\n",
              "      <td>4.0</td>\n",
              "      <td>3.0</td>\n",
              "      <td>2.0</td>\n",
              "      <td>4.0</td>\n",
              "    </tr>\n",
              "    <tr>\n",
              "      <th>4</th>\n",
              "      <td>-8434.0</td>\n",
              "      <td>325415.0</td>\n",
              "      <td>1.0</td>\n",
              "      <td>8.0</td>\n",
              "      <td>-1.0</td>\n",
              "      <td>-0.0</td>\n",
              "      <td>-0.0</td>\n",
              "      <td>2.0</td>\n",
              "      <td>-1.0</td>\n",
              "      <td>0.0</td>\n",
              "      <td>1.0</td>\n",
              "      <td>6.0</td>\n",
              "      <td>2.0</td>\n",
              "      <td>2.0</td>\n",
              "      <td>4.0</td>\n",
              "      <td>2.0</td>\n",
              "      <td>1.0</td>\n",
              "      <td>5.0</td>\n",
              "      <td>5.0</td>\n",
              "      <td>5.0</td>\n",
              "      <td>4.0</td>\n",
              "      <td>0.0</td>\n",
              "      <td>0.0</td>\n",
              "      <td>1.0</td>\n",
              "      <td>-0.0</td>\n",
              "      <td>-0.0</td>\n",
              "      <td>7.0</td>\n",
              "      <td>-1.0</td>\n",
              "      <td>3.0</td>\n",
              "      <td>6.0</td>\n",
              "      <td>1.0</td>\n",
              "      <td>0.0</td>\n",
              "      <td>2.0</td>\n",
              "      <td>-0.0</td>\n",
              "      <td>2.0</td>\n",
              "      <td>-0.0</td>\n",
              "      <td>6.0</td>\n",
              "      <td>6.0</td>\n",
              "      <td>9.0</td>\n",
              "      <td>8.0</td>\n",
              "      <td>...</td>\n",
              "      <td>4.0</td>\n",
              "      <td>3.0</td>\n",
              "      <td>1.0</td>\n",
              "      <td>2.0</td>\n",
              "      <td>2.0</td>\n",
              "      <td>2.0</td>\n",
              "      <td>2.0</td>\n",
              "      <td>6.0</td>\n",
              "      <td>5.0</td>\n",
              "      <td>3.0</td>\n",
              "      <td>5.0</td>\n",
              "      <td>5.0</td>\n",
              "      <td>4.0</td>\n",
              "      <td>1.0</td>\n",
              "      <td>4.0</td>\n",
              "      <td>5.0</td>\n",
              "      <td>6.0</td>\n",
              "      <td>4.0</td>\n",
              "      <td>4.0</td>\n",
              "      <td>6.0</td>\n",
              "      <td>3.0</td>\n",
              "      <td>3.0</td>\n",
              "      <td>0.0</td>\n",
              "      <td>1.0</td>\n",
              "      <td>4.0</td>\n",
              "      <td>4.0</td>\n",
              "      <td>0.0</td>\n",
              "      <td>4.0</td>\n",
              "      <td>2.0</td>\n",
              "      <td>4.0</td>\n",
              "      <td>1.0</td>\n",
              "      <td>8.0</td>\n",
              "      <td>7.0</td>\n",
              "      <td>4.0</td>\n",
              "      <td>7.0</td>\n",
              "      <td>11.0</td>\n",
              "      <td>7.0</td>\n",
              "      <td>2.0</td>\n",
              "      <td>2.0</td>\n",
              "      <td>2.0</td>\n",
              "    </tr>\n",
              "  </tbody>\n",
              "</table>\n",
              "<p>5 rows × 321 columns</p>\n",
              "</div>"
            ],
            "text/plain": [
              "   Unnamed: 0       LNR  AKT_DAT_KL  ...  ZABEOTYP  ANREDE_KZ  ALTERSKATEGORIE_GROB\n",
              "0     -5962.0  429799.0         1.0  ...       1.0        1.0                   3.0\n",
              "1     -8010.0  376190.0         1.0  ...       1.0        1.0                   3.0\n",
              "2     -7048.0  384229.0         1.0  ...       1.0        1.0                   3.0\n",
              "3     -9435.0  380249.0         1.0  ...       3.0        2.0                   4.0\n",
              "4     -8434.0  325415.0         1.0  ...       2.0        2.0                   2.0\n",
              "\n",
              "[5 rows x 321 columns]"
            ]
          },
          "metadata": {
            "tags": []
          },
          "execution_count": 143
        }
      ]
    },
    {
      "cell_type": "code",
      "metadata": {
        "colab": {
          "base_uri": "https://localhost:8080/",
          "height": 266
        },
        "id": "Wa--yDkXX3fQ",
        "outputId": "26c1d159-755c-4a98-c978-3443d67d1a9f"
      },
      "source": [
        "# Cluster 3\n",
        "over3 = scaler.inverse_transform(my_pca.inverse_transform(customers_pca[np.where(customers_clusters==2)])).round()\n",
        "df_over3 = pd.DataFrame(data=over3, columns=customers.columns)\n",
        "df_over3.head()"
      ],
      "execution_count": null,
      "outputs": [
        {
          "output_type": "execute_result",
          "data": {
            "text/html": [
              "<div>\n",
              "<style scoped>\n",
              "    .dataframe tbody tr th:only-of-type {\n",
              "        vertical-align: middle;\n",
              "    }\n",
              "\n",
              "    .dataframe tbody tr th {\n",
              "        vertical-align: top;\n",
              "    }\n",
              "\n",
              "    .dataframe thead th {\n",
              "        text-align: right;\n",
              "    }\n",
              "</style>\n",
              "<table border=\"1\" class=\"dataframe\">\n",
              "  <thead>\n",
              "    <tr style=\"text-align: right;\">\n",
              "      <th></th>\n",
              "      <th>Unnamed: 0</th>\n",
              "      <th>LNR</th>\n",
              "      <th>AKT_DAT_KL</th>\n",
              "      <th>ALTERSKATEGORIE_FEIN</th>\n",
              "      <th>ANZ_HAUSHALTE_AKTIV</th>\n",
              "      <th>ANZ_HH_TITEL</th>\n",
              "      <th>ANZ_KINDER</th>\n",
              "      <th>ANZ_PERSONEN</th>\n",
              "      <th>ANZ_STATISTISCHE_HAUSHALTE</th>\n",
              "      <th>ANZ_TITEL</th>\n",
              "      <th>ARBEIT</th>\n",
              "      <th>BALLRAUM</th>\n",
              "      <th>CAMEO_DEUG_2015</th>\n",
              "      <th>CJT_GESAMTTYP</th>\n",
              "      <th>CJT_KATALOGNUTZER</th>\n",
              "      <th>CJT_TYP_1</th>\n",
              "      <th>CJT_TYP_2</th>\n",
              "      <th>CJT_TYP_3</th>\n",
              "      <th>CJT_TYP_4</th>\n",
              "      <th>CJT_TYP_5</th>\n",
              "      <th>CJT_TYP_6</th>\n",
              "      <th>D19_BANKEN_DIREKT</th>\n",
              "      <th>D19_BANKEN_GROSS</th>\n",
              "      <th>D19_BANKEN_LOKAL</th>\n",
              "      <th>D19_BANKEN_REST</th>\n",
              "      <th>D19_BEKLEIDUNG_GEH</th>\n",
              "      <th>D19_BEKLEIDUNG_REST</th>\n",
              "      <th>D19_BILDUNG</th>\n",
              "      <th>D19_BIO_OEKO</th>\n",
              "      <th>D19_BUCH_CD</th>\n",
              "      <th>D19_DIGIT_SERV</th>\n",
              "      <th>D19_DROGERIEARTIKEL</th>\n",
              "      <th>D19_ENERGIE</th>\n",
              "      <th>D19_FREIZEIT</th>\n",
              "      <th>D19_GARTEN</th>\n",
              "      <th>D19_HANDWERK</th>\n",
              "      <th>D19_HAUS_DEKO</th>\n",
              "      <th>D19_KINDERARTIKEL</th>\n",
              "      <th>D19_KONSUMTYP</th>\n",
              "      <th>D19_KONSUMTYP_MAX</th>\n",
              "      <th>...</th>\n",
              "      <th>PLZ8_HHZ</th>\n",
              "      <th>PRAEGENDE_JUGENDJAHRE</th>\n",
              "      <th>RELAT_AB</th>\n",
              "      <th>RETOURTYP_BK_S</th>\n",
              "      <th>RT_KEIN_ANREIZ</th>\n",
              "      <th>RT_SCHNAEPPCHEN</th>\n",
              "      <th>RT_UEBERGROESSE</th>\n",
              "      <th>SEMIO_DOM</th>\n",
              "      <th>SEMIO_ERL</th>\n",
              "      <th>SEMIO_FAM</th>\n",
              "      <th>SEMIO_KAEM</th>\n",
              "      <th>SEMIO_KRIT</th>\n",
              "      <th>SEMIO_KULT</th>\n",
              "      <th>SEMIO_LUST</th>\n",
              "      <th>SEMIO_MAT</th>\n",
              "      <th>SEMIO_PFLICHT</th>\n",
              "      <th>SEMIO_RAT</th>\n",
              "      <th>SEMIO_REL</th>\n",
              "      <th>SEMIO_SOZ</th>\n",
              "      <th>SEMIO_TRADV</th>\n",
              "      <th>SEMIO_VERT</th>\n",
              "      <th>SHOPPER_TYP</th>\n",
              "      <th>SOHO_KZ</th>\n",
              "      <th>STRUKTURTYP</th>\n",
              "      <th>UMFELD_ALT</th>\n",
              "      <th>UMFELD_JUNG</th>\n",
              "      <th>UNGLEICHENN_FLAG</th>\n",
              "      <th>VERDICHTUNGSRAUM</th>\n",
              "      <th>VERS_TYP</th>\n",
              "      <th>VHA</th>\n",
              "      <th>VHN</th>\n",
              "      <th>VK_DHT4A</th>\n",
              "      <th>VK_DISTANZ</th>\n",
              "      <th>VK_ZG11</th>\n",
              "      <th>W_KEIT_KIND_HH</th>\n",
              "      <th>WOHNDAUER_2008</th>\n",
              "      <th>WOHNLAGE</th>\n",
              "      <th>ZABEOTYP</th>\n",
              "      <th>ANREDE_KZ</th>\n",
              "      <th>ALTERSKATEGORIE_GROB</th>\n",
              "    </tr>\n",
              "  </thead>\n",
              "  <tbody>\n",
              "    <tr>\n",
              "      <th>0</th>\n",
              "      <td>-7239.0</td>\n",
              "      <td>438873.0</td>\n",
              "      <td>1.0</td>\n",
              "      <td>15.0</td>\n",
              "      <td>5.0</td>\n",
              "      <td>0.0</td>\n",
              "      <td>0.0</td>\n",
              "      <td>3.0</td>\n",
              "      <td>4.0</td>\n",
              "      <td>0.0</td>\n",
              "      <td>3.0</td>\n",
              "      <td>3.0</td>\n",
              "      <td>8.0</td>\n",
              "      <td>6.0</td>\n",
              "      <td>3.0</td>\n",
              "      <td>3.0</td>\n",
              "      <td>3.0</td>\n",
              "      <td>4.0</td>\n",
              "      <td>4.0</td>\n",
              "      <td>3.0</td>\n",
              "      <td>4.0</td>\n",
              "      <td>5.0</td>\n",
              "      <td>-0.0</td>\n",
              "      <td>0.0</td>\n",
              "      <td>0.0</td>\n",
              "      <td>1.0</td>\n",
              "      <td>6.0</td>\n",
              "      <td>2.0</td>\n",
              "      <td>1.0</td>\n",
              "      <td>2.0</td>\n",
              "      <td>1.0</td>\n",
              "      <td>4.0</td>\n",
              "      <td>0.0</td>\n",
              "      <td>6.0</td>\n",
              "      <td>1.0</td>\n",
              "      <td>-0.0</td>\n",
              "      <td>7.0</td>\n",
              "      <td>0.0</td>\n",
              "      <td>3.0</td>\n",
              "      <td>3.0</td>\n",
              "      <td>...</td>\n",
              "      <td>3.0</td>\n",
              "      <td>10.0</td>\n",
              "      <td>1.0</td>\n",
              "      <td>5.0</td>\n",
              "      <td>4.0</td>\n",
              "      <td>3.0</td>\n",
              "      <td>5.0</td>\n",
              "      <td>5.0</td>\n",
              "      <td>4.0</td>\n",
              "      <td>5.0</td>\n",
              "      <td>3.0</td>\n",
              "      <td>2.0</td>\n",
              "      <td>5.0</td>\n",
              "      <td>6.0</td>\n",
              "      <td>6.0</td>\n",
              "      <td>4.0</td>\n",
              "      <td>4.0</td>\n",
              "      <td>5.0</td>\n",
              "      <td>4.0</td>\n",
              "      <td>4.0</td>\n",
              "      <td>5.0</td>\n",
              "      <td>1.0</td>\n",
              "      <td>0.0</td>\n",
              "      <td>3.0</td>\n",
              "      <td>2.0</td>\n",
              "      <td>4.0</td>\n",
              "      <td>-0.0</td>\n",
              "      <td>-0.0</td>\n",
              "      <td>2.0</td>\n",
              "      <td>1.0</td>\n",
              "      <td>4.0</td>\n",
              "      <td>4.0</td>\n",
              "      <td>5.0</td>\n",
              "      <td>5.0</td>\n",
              "      <td>2.0</td>\n",
              "      <td>8.0</td>\n",
              "      <td>3.0</td>\n",
              "      <td>1.0</td>\n",
              "      <td>1.0</td>\n",
              "      <td>3.0</td>\n",
              "    </tr>\n",
              "    <tr>\n",
              "      <th>1</th>\n",
              "      <td>-6977.0</td>\n",
              "      <td>338409.0</td>\n",
              "      <td>1.0</td>\n",
              "      <td>14.0</td>\n",
              "      <td>1.0</td>\n",
              "      <td>-0.0</td>\n",
              "      <td>0.0</td>\n",
              "      <td>3.0</td>\n",
              "      <td>1.0</td>\n",
              "      <td>-0.0</td>\n",
              "      <td>1.0</td>\n",
              "      <td>6.0</td>\n",
              "      <td>5.0</td>\n",
              "      <td>5.0</td>\n",
              "      <td>4.0</td>\n",
              "      <td>2.0</td>\n",
              "      <td>2.0</td>\n",
              "      <td>5.0</td>\n",
              "      <td>4.0</td>\n",
              "      <td>5.0</td>\n",
              "      <td>5.0</td>\n",
              "      <td>-0.0</td>\n",
              "      <td>0.0</td>\n",
              "      <td>0.0</td>\n",
              "      <td>5.0</td>\n",
              "      <td>1.0</td>\n",
              "      <td>6.0</td>\n",
              "      <td>-1.0</td>\n",
              "      <td>0.0</td>\n",
              "      <td>6.0</td>\n",
              "      <td>0.0</td>\n",
              "      <td>-0.0</td>\n",
              "      <td>1.0</td>\n",
              "      <td>0.0</td>\n",
              "      <td>1.0</td>\n",
              "      <td>-0.0</td>\n",
              "      <td>6.0</td>\n",
              "      <td>6.0</td>\n",
              "      <td>2.0</td>\n",
              "      <td>2.0</td>\n",
              "      <td>...</td>\n",
              "      <td>4.0</td>\n",
              "      <td>8.0</td>\n",
              "      <td>1.0</td>\n",
              "      <td>3.0</td>\n",
              "      <td>4.0</td>\n",
              "      <td>4.0</td>\n",
              "      <td>5.0</td>\n",
              "      <td>2.0</td>\n",
              "      <td>4.0</td>\n",
              "      <td>5.0</td>\n",
              "      <td>2.0</td>\n",
              "      <td>3.0</td>\n",
              "      <td>5.0</td>\n",
              "      <td>5.0</td>\n",
              "      <td>4.0</td>\n",
              "      <td>2.0</td>\n",
              "      <td>3.0</td>\n",
              "      <td>3.0</td>\n",
              "      <td>6.0</td>\n",
              "      <td>2.0</td>\n",
              "      <td>6.0</td>\n",
              "      <td>0.0</td>\n",
              "      <td>0.0</td>\n",
              "      <td>1.0</td>\n",
              "      <td>5.0</td>\n",
              "      <td>4.0</td>\n",
              "      <td>-0.0</td>\n",
              "      <td>-1.0</td>\n",
              "      <td>1.0</td>\n",
              "      <td>0.0</td>\n",
              "      <td>3.0</td>\n",
              "      <td>5.0</td>\n",
              "      <td>7.0</td>\n",
              "      <td>6.0</td>\n",
              "      <td>4.0</td>\n",
              "      <td>9.0</td>\n",
              "      <td>7.0</td>\n",
              "      <td>1.0</td>\n",
              "      <td>1.0</td>\n",
              "      <td>4.0</td>\n",
              "    </tr>\n",
              "    <tr>\n",
              "      <th>2</th>\n",
              "      <td>-5975.0</td>\n",
              "      <td>322598.0</td>\n",
              "      <td>7.0</td>\n",
              "      <td>18.0</td>\n",
              "      <td>-0.0</td>\n",
              "      <td>-0.0</td>\n",
              "      <td>0.0</td>\n",
              "      <td>4.0</td>\n",
              "      <td>-0.0</td>\n",
              "      <td>0.0</td>\n",
              "      <td>1.0</td>\n",
              "      <td>3.0</td>\n",
              "      <td>2.0</td>\n",
              "      <td>5.0</td>\n",
              "      <td>3.0</td>\n",
              "      <td>5.0</td>\n",
              "      <td>4.0</td>\n",
              "      <td>2.0</td>\n",
              "      <td>2.0</td>\n",
              "      <td>2.0</td>\n",
              "      <td>3.0</td>\n",
              "      <td>3.0</td>\n",
              "      <td>0.0</td>\n",
              "      <td>1.0</td>\n",
              "      <td>2.0</td>\n",
              "      <td>6.0</td>\n",
              "      <td>5.0</td>\n",
              "      <td>2.0</td>\n",
              "      <td>3.0</td>\n",
              "      <td>6.0</td>\n",
              "      <td>1.0</td>\n",
              "      <td>3.0</td>\n",
              "      <td>1.0</td>\n",
              "      <td>6.0</td>\n",
              "      <td>1.0</td>\n",
              "      <td>6.0</td>\n",
              "      <td>5.0</td>\n",
              "      <td>7.0</td>\n",
              "      <td>1.0</td>\n",
              "      <td>2.0</td>\n",
              "      <td>...</td>\n",
              "      <td>5.0</td>\n",
              "      <td>14.0</td>\n",
              "      <td>1.0</td>\n",
              "      <td>4.0</td>\n",
              "      <td>4.0</td>\n",
              "      <td>4.0</td>\n",
              "      <td>4.0</td>\n",
              "      <td>3.0</td>\n",
              "      <td>4.0</td>\n",
              "      <td>4.0</td>\n",
              "      <td>3.0</td>\n",
              "      <td>3.0</td>\n",
              "      <td>5.0</td>\n",
              "      <td>6.0</td>\n",
              "      <td>2.0</td>\n",
              "      <td>4.0</td>\n",
              "      <td>2.0</td>\n",
              "      <td>3.0</td>\n",
              "      <td>6.0</td>\n",
              "      <td>2.0</td>\n",
              "      <td>7.0</td>\n",
              "      <td>3.0</td>\n",
              "      <td>0.0</td>\n",
              "      <td>3.0</td>\n",
              "      <td>4.0</td>\n",
              "      <td>4.0</td>\n",
              "      <td>-0.0</td>\n",
              "      <td>3.0</td>\n",
              "      <td>1.0</td>\n",
              "      <td>1.0</td>\n",
              "      <td>3.0</td>\n",
              "      <td>2.0</td>\n",
              "      <td>2.0</td>\n",
              "      <td>0.0</td>\n",
              "      <td>3.0</td>\n",
              "      <td>10.0</td>\n",
              "      <td>4.0</td>\n",
              "      <td>1.0</td>\n",
              "      <td>1.0</td>\n",
              "      <td>3.0</td>\n",
              "    </tr>\n",
              "    <tr>\n",
              "      <th>3</th>\n",
              "      <td>-4278.0</td>\n",
              "      <td>263173.0</td>\n",
              "      <td>1.0</td>\n",
              "      <td>11.0</td>\n",
              "      <td>-0.0</td>\n",
              "      <td>0.0</td>\n",
              "      <td>0.0</td>\n",
              "      <td>3.0</td>\n",
              "      <td>-0.0</td>\n",
              "      <td>0.0</td>\n",
              "      <td>2.0</td>\n",
              "      <td>7.0</td>\n",
              "      <td>6.0</td>\n",
              "      <td>2.0</td>\n",
              "      <td>4.0</td>\n",
              "      <td>2.0</td>\n",
              "      <td>1.0</td>\n",
              "      <td>5.0</td>\n",
              "      <td>5.0</td>\n",
              "      <td>5.0</td>\n",
              "      <td>5.0</td>\n",
              "      <td>6.0</td>\n",
              "      <td>0.0</td>\n",
              "      <td>0.0</td>\n",
              "      <td>0.0</td>\n",
              "      <td>-0.0</td>\n",
              "      <td>-0.0</td>\n",
              "      <td>-1.0</td>\n",
              "      <td>1.0</td>\n",
              "      <td>6.0</td>\n",
              "      <td>0.0</td>\n",
              "      <td>1.0</td>\n",
              "      <td>1.0</td>\n",
              "      <td>-0.0</td>\n",
              "      <td>1.0</td>\n",
              "      <td>0.0</td>\n",
              "      <td>3.0</td>\n",
              "      <td>6.0</td>\n",
              "      <td>4.0</td>\n",
              "      <td>3.0</td>\n",
              "      <td>...</td>\n",
              "      <td>3.0</td>\n",
              "      <td>4.0</td>\n",
              "      <td>3.0</td>\n",
              "      <td>3.0</td>\n",
              "      <td>2.0</td>\n",
              "      <td>5.0</td>\n",
              "      <td>2.0</td>\n",
              "      <td>5.0</td>\n",
              "      <td>8.0</td>\n",
              "      <td>3.0</td>\n",
              "      <td>6.0</td>\n",
              "      <td>6.0</td>\n",
              "      <td>2.0</td>\n",
              "      <td>7.0</td>\n",
              "      <td>2.0</td>\n",
              "      <td>2.0</td>\n",
              "      <td>3.0</td>\n",
              "      <td>1.0</td>\n",
              "      <td>5.0</td>\n",
              "      <td>2.0</td>\n",
              "      <td>4.0</td>\n",
              "      <td>3.0</td>\n",
              "      <td>0.0</td>\n",
              "      <td>3.0</td>\n",
              "      <td>5.0</td>\n",
              "      <td>5.0</td>\n",
              "      <td>0.0</td>\n",
              "      <td>21.0</td>\n",
              "      <td>1.0</td>\n",
              "      <td>4.0</td>\n",
              "      <td>2.0</td>\n",
              "      <td>2.0</td>\n",
              "      <td>2.0</td>\n",
              "      <td>1.0</td>\n",
              "      <td>2.0</td>\n",
              "      <td>10.0</td>\n",
              "      <td>3.0</td>\n",
              "      <td>3.0</td>\n",
              "      <td>2.0</td>\n",
              "      <td>4.0</td>\n",
              "    </tr>\n",
              "    <tr>\n",
              "      <th>4</th>\n",
              "      <td>-10437.0</td>\n",
              "      <td>420204.0</td>\n",
              "      <td>1.0</td>\n",
              "      <td>15.0</td>\n",
              "      <td>0.0</td>\n",
              "      <td>0.0</td>\n",
              "      <td>1.0</td>\n",
              "      <td>3.0</td>\n",
              "      <td>1.0</td>\n",
              "      <td>0.0</td>\n",
              "      <td>1.0</td>\n",
              "      <td>6.0</td>\n",
              "      <td>4.0</td>\n",
              "      <td>3.0</td>\n",
              "      <td>2.0</td>\n",
              "      <td>3.0</td>\n",
              "      <td>2.0</td>\n",
              "      <td>5.0</td>\n",
              "      <td>4.0</td>\n",
              "      <td>5.0</td>\n",
              "      <td>3.0</td>\n",
              "      <td>7.0</td>\n",
              "      <td>-0.0</td>\n",
              "      <td>1.0</td>\n",
              "      <td>-1.0</td>\n",
              "      <td>6.0</td>\n",
              "      <td>6.0</td>\n",
              "      <td>2.0</td>\n",
              "      <td>4.0</td>\n",
              "      <td>6.0</td>\n",
              "      <td>2.0</td>\n",
              "      <td>7.0</td>\n",
              "      <td>2.0</td>\n",
              "      <td>1.0</td>\n",
              "      <td>2.0</td>\n",
              "      <td>6.0</td>\n",
              "      <td>7.0</td>\n",
              "      <td>7.0</td>\n",
              "      <td>4.0</td>\n",
              "      <td>4.0</td>\n",
              "      <td>...</td>\n",
              "      <td>3.0</td>\n",
              "      <td>10.0</td>\n",
              "      <td>1.0</td>\n",
              "      <td>3.0</td>\n",
              "      <td>2.0</td>\n",
              "      <td>1.0</td>\n",
              "      <td>3.0</td>\n",
              "      <td>6.0</td>\n",
              "      <td>6.0</td>\n",
              "      <td>3.0</td>\n",
              "      <td>5.0</td>\n",
              "      <td>5.0</td>\n",
              "      <td>3.0</td>\n",
              "      <td>1.0</td>\n",
              "      <td>3.0</td>\n",
              "      <td>4.0</td>\n",
              "      <td>4.0</td>\n",
              "      <td>2.0</td>\n",
              "      <td>5.0</td>\n",
              "      <td>4.0</td>\n",
              "      <td>3.0</td>\n",
              "      <td>3.0</td>\n",
              "      <td>0.0</td>\n",
              "      <td>1.0</td>\n",
              "      <td>3.0</td>\n",
              "      <td>5.0</td>\n",
              "      <td>0.0</td>\n",
              "      <td>2.0</td>\n",
              "      <td>1.0</td>\n",
              "      <td>1.0</td>\n",
              "      <td>1.0</td>\n",
              "      <td>3.0</td>\n",
              "      <td>5.0</td>\n",
              "      <td>5.0</td>\n",
              "      <td>1.0</td>\n",
              "      <td>7.0</td>\n",
              "      <td>7.0</td>\n",
              "      <td>1.0</td>\n",
              "      <td>2.0</td>\n",
              "      <td>3.0</td>\n",
              "    </tr>\n",
              "  </tbody>\n",
              "</table>\n",
              "<p>5 rows × 321 columns</p>\n",
              "</div>"
            ],
            "text/plain": [
              "   Unnamed: 0       LNR  AKT_DAT_KL  ...  ZABEOTYP  ANREDE_KZ  ALTERSKATEGORIE_GROB\n",
              "0     -7239.0  438873.0         1.0  ...       1.0        1.0                   3.0\n",
              "1     -6977.0  338409.0         1.0  ...       1.0        1.0                   4.0\n",
              "2     -5975.0  322598.0         7.0  ...       1.0        1.0                   3.0\n",
              "3     -4278.0  263173.0         1.0  ...       3.0        2.0                   4.0\n",
              "4    -10437.0  420204.0         1.0  ...       1.0        2.0                   3.0\n",
              "\n",
              "[5 rows x 321 columns]"
            ]
          },
          "metadata": {
            "tags": []
          },
          "execution_count": 142
        }
      ]
    },
    {
      "cell_type": "code",
      "metadata": {
        "id": "K7gH2wxhX3lX"
      },
      "source": [
        "# Cluster 5\n",
        "over5 = scaler.inverse_transform(my_pca.inverse_transform(customers_pca[np.where(customers_clusters==4)])).round()\n",
        "df_over5 = pd.DataFrame(data=over5, columns=customers.columns)\n",
        "df_over5.head()"
      ],
      "execution_count": null,
      "outputs": []
    },
    {
      "cell_type": "markdown",
      "metadata": {
        "id": "V1mNfHP0QDWK"
      },
      "source": [
        "## Part 2: Supervised Learning Model\n",
        "\n",
        "Now that you've found which parts of the population are more likely to be customers of the mail-order company, it's time to build a prediction model. Each of the rows in the \"MAILOUT\" data files represents an individual that was targeted for a mailout campaign. Ideally, we should be able to use the demographic information from each individual to decide whether or not it will be worth it to include that person in the campaign.\n",
        "\n",
        "The \"MAILOUT\" data has been split into two approximately equal parts, each with almost 43 000 data rows. In this part, you can verify your model with the \"TRAIN\" partition, which includes a column, \"RESPONSE\", that states whether or not a person became a customer of the company following the campaign. In the next part, you'll need to create predictions on the \"TEST\" partition, where the \"RESPONSE\" column has been withheld."
      ]
    },
    {
      "cell_type": "code",
      "metadata": {
        "id": "MMSk6sOePLL4",
        "colab": {
          "base_uri": "https://localhost:8080/"
        },
        "outputId": "f9bfd670-4f56-4ebe-ad92-6c92fad5c4d3"
      },
      "source": [
        "mailout_train = pd.read_csv('/content/drive/My Drive/DATA_SCIENCE/MLEngineer_Nanodegree/data/Udacity_MAILOUT_052018_TRAIN.csv', sep=';')"
      ],
      "execution_count": 28,
      "outputs": [
        {
          "output_type": "stream",
          "text": [
            "/usr/local/lib/python3.6/dist-packages/IPython/core/interactiveshell.py:2718: DtypeWarning: Columns (18,19) have mixed types.Specify dtype option on import or set low_memory=False.\n",
            "  interactivity=interactivity, compiler=compiler, result=result)\n"
          ],
          "name": "stderr"
        }
      ]
    },
    {
      "cell_type": "code",
      "metadata": {
        "id": "IvqHxyfdPLIH"
      },
      "source": [
        "mailout_train.head()"
      ],
      "execution_count": null,
      "outputs": []
    },
    {
      "cell_type": "markdown",
      "metadata": {
        "id": "yzWd80DNJvyO"
      },
      "source": [
        "Our target is the variable *RESPONSE*. We can see that it is highly unbalanced:"
      ]
    },
    {
      "cell_type": "code",
      "metadata": {
        "colab": {
          "base_uri": "https://localhost:8080/",
          "height": 406
        },
        "id": "XUu-jmzkGQG1",
        "outputId": "9297ebe3-b93f-4325-9830-bdb2d32b2991"
      },
      "source": [
        "print(mailout_train.RESPONSE.value_counts())\n",
        "sns.countplot('RESPONSE', data=mailout_train)"
      ],
      "execution_count": 36,
      "outputs": [
        {
          "output_type": "stream",
          "text": [
            "0    42430\n",
            "1      532\n",
            "Name: RESPONSE, dtype: int64\n"
          ],
          "name": "stdout"
        },
        {
          "output_type": "stream",
          "text": [
            "/usr/local/lib/python3.6/dist-packages/seaborn/_decorators.py:43: FutureWarning: Pass the following variable as a keyword arg: x. From version 0.12, the only valid positional argument will be `data`, and passing other arguments without an explicit keyword will result in an error or misinterpretation.\n",
            "  FutureWarning\n"
          ],
          "name": "stderr"
        },
        {
          "output_type": "execute_result",
          "data": {
            "text/plain": [
              "<matplotlib.axes._subplots.AxesSubplot at 0x7faf54a7c4a8>"
            ]
          },
          "metadata": {
            "tags": []
          },
          "execution_count": 36
        },
        {
          "output_type": "display_data",
          "data": {
            "image/png": "[encoded data removed]",
            "text/plain": [
              "<Figure size 432x288 with 1 Axes>"
            ]
          },
          "metadata": {
            "tags": [],
            "needs_background": "light"
          }
        }
      ]
    },
    {
      "cell_type": "markdown",
      "metadata": {
        "id": "qTy4F5UH51Mo"
      },
      "source": [
        "### We create a function to apply the same cleaning process as applied to the general and the customer populations."
      ]
    },
    {
      "cell_type": "code",
      "metadata": {
        "id": "wCL2BAm_Mm9E"
      },
      "source": [
        "def clean_data(df):\n",
        "  \"\"\" Clean the data as done for the population and customers \"\"\"\n",
        "\n",
        "  # Convert unknown values into missing data\n",
        "  df = missing_to_nan(df, feat_info_unknown)\n",
        "\n",
        "  # Drop columns where more than 30% of customers/population rows were missing\n",
        "  df = df.drop(remove_cols, axis=1)\n",
        "\n",
        "  # Drop rows with more than 50 missing features (even with risk of removing targets)\n",
        "  miss_rows = df.isnull().sum(axis=1)\n",
        "  df = df[miss_rows < 50].reset_index(drop=True)\n",
        "\n",
        "  # Drop additional columns\n",
        "  remove_cols2 = ['EINGEFUEGT_AM', 'CAMEO_DEU_2015', 'CAMEO_INTL_2015', 'D19_LETZTER_KAUF_BRANCHE']\n",
        "  df = df.drop(remove_cols2, axis=1)\n",
        "\n",
        "  # Encode\n",
        "  df['OST_WEST_KZ'] = df['OST_WEST_KZ'].replace({'W': 0, 'O': 1})\n",
        "  df['CAMEO_DEUG_2015'] = df['CAMEO_DEUG_2015'].replace({'X': np.nan}).astype(float)\n",
        "\n",
        "  return df"
      ],
      "execution_count": 39,
      "outputs": []
    },
    {
      "cell_type": "code",
      "metadata": {
        "id": "rHRUzRV2GQJy"
      },
      "source": [
        "mailout_train_clean = clean_data(mailout_train)"
      ],
      "execution_count": 61,
      "outputs": []
    },
    {
      "cell_type": "code",
      "metadata": {
        "colab": {
          "base_uri": "https://localhost:8080/"
        },
        "id": "rdog5_f8GQMN",
        "outputId": "afe16458-06db-4e48-d833-60025f67f529"
      },
      "source": [
        "print(mailout_train.shape, mailout_train_clean.shape)"
      ],
      "execution_count": 62,
      "outputs": [
        {
          "output_type": "stream",
          "text": [
            "(42962, 367) (33837, 321)\n"
          ],
          "name": "stdout"
        }
      ]
    },
    {
      "cell_type": "code",
      "metadata": {
        "id": "KIQ3XHyV2Bou"
      },
      "source": [
        "# Drop LNR, the ID variable\n",
        "mailout_train_clean.drop('LNR', axis=1, inplace=True)"
      ],
      "execution_count": 63,
      "outputs": []
    },
    {
      "cell_type": "code",
      "metadata": {
        "id": "VFrXH4l-8DMI"
      },
      "source": [
        "# Imputing Missing data --> We impute also the target, because there are some NaN\n",
        "imputer = SimpleImputer(strategy='most_frequent')\n",
        "imputed_mailout = pd.DataFrame(imputer.fit_transform(mailout_train_clean), columns = mailout_train_clean.columns)"
      ],
      "execution_count": 64,
      "outputs": []
    },
    {
      "cell_type": "code",
      "metadata": {
        "colab": {
          "base_uri": "https://localhost:8080/"
        },
        "id": "3-k8DtwF2BrV",
        "outputId": "85ab93e6-0ed8-404c-f138-15056e32a8f9"
      },
      "source": [
        "# Split data to features and target\n",
        "target = imputed_mailout['RESPONSE']\n",
        "print(target.nunique())\n",
        "\n",
        "# Now drop RESPONSE variable\n",
        "features = imputed_mailout.drop('RESPONSE', axis=1)"
      ],
      "execution_count": 70,
      "outputs": [
        {
          "output_type": "stream",
          "text": [
            "2\n"
          ],
          "name": "stdout"
        }
      ]
    },
    {
      "cell_type": "code",
      "metadata": {
        "id": "JuvReiQ29HCn"
      },
      "source": [
        "from sklearn.model_selection import GridSearchCV, StratifiedKFold, train_test_split\n",
        "from sklearn.metrics import plot_roc_curve\n",
        "from sklearn.ensemble import RandomForestClassifier, AdaBoostClassifier, ExtraTreesClassifier\n",
        "from sklearn.linear_model import LogisticRegression\n",
        "from sklearn.tree import DecisionTreeClassifier\n",
        "from imblearn.over_sampling import RandomOverSampler\n",
        "from imblearn.under_sampling import RandomUnderSampler\n",
        "from collections import Counter"
      ],
      "execution_count": null,
      "outputs": []
    },
    {
      "cell_type": "markdown",
      "metadata": {
        "id": "gRkIzn0wD7mo"
      },
      "source": [
        "### Train-test split: 80-20.\n",
        "With stratify to have the same proportion of target values in the train and test. Also shuffle in case the dataset is in a predefined order."
      ]
    },
    {
      "cell_type": "code",
      "metadata": {
        "id": "20zpjuG39Id5"
      },
      "source": [
        "X_train, X_test, y_train, y_test = train_test_split(features, target, train_size=0.8,\n",
        "                                                    stratify = target,\n",
        "                                                    random_state=SEED, shuffle=True)"
      ],
      "execution_count": 71,
      "outputs": []
    },
    {
      "cell_type": "markdown",
      "metadata": {
        "id": "VpyOWb-TBOwg"
      },
      "source": [
        "### **Benchmark**: We will establish a benchmark model. This is a classification problem, so a simple algorithm would be a Logistic Regression with default hyperparameters and nothing else.\n",
        "\n",
        "Note that the algorithms we will test do not need scaling."
      ]
    },
    {
      "cell_type": "code",
      "metadata": {
        "id": "qITmw_Mx9IYo"
      },
      "source": [
        "lr = LogisticRegression(random_state=SEED)"
      ],
      "execution_count": 72,
      "outputs": []
    },
    {
      "cell_type": "code",
      "metadata": {
        "id": "u0iOgR2bI7gX"
      },
      "source": [
        "lr.fit(X_train, y_train)"
      ],
      "execution_count": null,
      "outputs": []
    },
    {
      "cell_type": "code",
      "metadata": {
        "colab": {
          "base_uri": "https://localhost:8080/",
          "height": 279
        },
        "id": "ziU4msVbLEk-",
        "outputId": "7844827a-53e3-4d05-86cb-d0e1c1b5debc"
      },
      "source": [
        "lr_disp = plot_roc_curve(lr, X_test, y_test)"
      ],
      "execution_count": 80,
      "outputs": [
        {
          "output_type": "display_data",
          "data": {
            "image/png": "[encoded data removed]",
            "text/plain": [
              "<Figure size 432x288 with 1 Axes>"
            ]
          },
          "metadata": {
            "tags": [],
            "needs_background": "light"
          }
        }
      ]
    },
    {
      "cell_type": "markdown",
      "metadata": {
        "id": "lwbRnvBbN_mv"
      },
      "source": [
        "The AUC for Logistic Regression is 0.75. We will try to improve that."
      ]
    },
    {
      "cell_type": "markdown",
      "metadata": {
        "id": "mAugim15WjwI"
      },
      "source": [
        "As the class 1 (people that become customers) is very small compared to class 0, we have to balance the sample.\n",
        "First, reducing the majority class:"
      ]
    },
    {
      "cell_type": "code",
      "metadata": {
        "id": "zi1XCONJLEoZ"
      },
      "source": [
        "under = RandomUnderSampler(sampling_strategy=0.09, random_state=SEED)\n",
        "X_rus, y_rus = under.fit_resample(X_train, y_train)\n",
        "print(Counter(y_rus))"
      ],
      "execution_count": null,
      "outputs": []
    },
    {
      "cell_type": "code",
      "metadata": {
        "id": "2rt-nsn4Zuzo"
      },
      "source": [
        "over = RandomOverSampler(sampling_strategy=1, random_state=SEED)\n",
        "X_combined_sampling, y_combined_sampling = over.fit_resample(X_rus, y_rus)"
      ],
      "execution_count": null,
      "outputs": []
    },
    {
      "cell_type": "markdown",
      "metadata": {
        "id": "HRJB8Pzjbpbu"
      },
      "source": [
        "Although the sample has been reduced, we have a better representation of class 1. This will help the models."
      ]
    },
    {
      "cell_type": "code",
      "metadata": {
        "colab": {
          "base_uri": "https://localhost:8080/"
        },
        "id": "0Zmjog7kRByB",
        "outputId": "5efee55f-0a77-4fba-b921-5182cbe105d7"
      },
      "source": [
        "print(Counter(y_combined_sampling))"
      ],
      "execution_count": 100,
      "outputs": [
        {
          "output_type": "stream",
          "text": [
            "Counter({0.0: 3700, 1.0: 3700})\n"
          ],
          "name": "stdout"
        }
      ]
    },
    {
      "cell_type": "markdown",
      "metadata": {
        "id": "AcdrBjm3dQLd"
      },
      "source": [
        "We will make a k-fold cross validation, to get more robust estimate of the quality of our models:"
      ]
    },
    {
      "cell_type": "code",
      "metadata": {
        "id": "Kb1jc5XIRBuF"
      },
      "source": [
        "kfold = StratifiedKFold(n_splits=5, random_state=SEED, shuffle=True)"
      ],
      "execution_count": 101,
      "outputs": []
    },
    {
      "cell_type": "markdown",
      "metadata": {
        "id": "6KeMd6SNeb_s"
      },
      "source": [
        "### Now let's try 3 different tree-based models:\n",
        "\n",
        "1. Random Forest\n",
        "2. Ada Boosting\n",
        "3. Extra Trees\n",
        "\n",
        "We will use a search grid to choose between few options of parameters for the 3 models. This will not be exhaustive though."
      ]
    },
    {
      "cell_type": "code",
      "metadata": {
        "id": "KGYZg_FDcb4v"
      },
      "source": [
        "rf = RandomForestClassifier()\n",
        "ab = AdaBoostClassifier(DecisionTreeClassifier(random_state=3, max_depth=6))\n",
        "xt = ExtraTreesClassifier()\n",
        "\n",
        "# Random Forests:\n",
        "grid_search_rf = {'max_depth': [6, 8],\n",
        "                  'min_samples_split': [2, 3],\n",
        "                  'min_samples_leaf': [1, 3],\n",
        "                  'criterion': ['gini'],\n",
        "                  'bootstrap': [False],\n",
        "                  'n_estimators' :[200, 300],\n",
        "                  'random_state': [3]}\n",
        "# Ada Boost:\n",
        "grid_search_ab = {'n_estimators': [200, 300],\n",
        "                  'learning_rate': [0.0001, 0.001]}\n",
        "\n",
        "# Extra Trees\n",
        "grid_search_xt = {'n_estimators': [200, 300],\n",
        "                  'criterion': ['gini'],\n",
        "                  'bootstrap': [False],\n",
        "                  'max_depth': [6, 8],\n",
        "                  'min_samples_split': [2, 3],\n",
        "                  'min_samples_leaf': [1, 3]}\n",
        "\n",
        "rf_gs = GridSearchCV(rf, param_grid = grid_search_rf, cv=kfold, scoring='roc_auc',\n",
        "                     n_jobs= -1, verbose = 1)\n",
        "\n",
        "ab_gs = GridSearchCV(ab, param_grid = grid_search_ab, cv=kfold, scoring='roc_auc',\n",
        "                     n_jobs= -1, verbose = 1)\n",
        "\n",
        "xt_gs = GridSearchCV(xt, param_grid = grid_search_xt, cv=kfold, scoring='roc_auc',\n",
        "                     n_jobs= -1, verbose = 1)"
      ],
      "execution_count": 103,
      "outputs": []
    },
    {
      "cell_type": "markdown",
      "metadata": {
        "id": "S4oAuow-fSVx"
      },
      "source": [
        "### Random Forest:"
      ]
    },
    {
      "cell_type": "code",
      "metadata": {
        "colab": {
          "base_uri": "https://localhost:8080/"
        },
        "id": "0fIEI0yScb7m",
        "outputId": "218c1fde-7749-48ef-db62-82708b3dbb6e"
      },
      "source": [
        "rf_gs.fit(X_combined_sampling, y_combined_sampling)\n",
        "from joblib import dump\n",
        "rf_best = rf_gs.best_estimator_\n",
        "dump(rf_best, '/content/drive/My Drive/DATA_SCIENCE/MLEngineer_Nanodegree/data/random_forest.joblib')"
      ],
      "execution_count": 104,
      "outputs": [
        {
          "output_type": "stream",
          "text": [
            "Fitting 5 folds for each of 16 candidates, totalling 80 fits\n"
          ],
          "name": "stdout"
        },
        {
          "output_type": "stream",
          "text": [
            "[Parallel(n_jobs=-1)]: Using backend LokyBackend with 4 concurrent workers.\n",
            "[Parallel(n_jobs=-1)]: Done  42 tasks      | elapsed:   52.5s\n",
            "[Parallel(n_jobs=-1)]: Done  80 out of  80 | elapsed:  1.8min finished\n"
          ],
          "name": "stderr"
        },
        {
          "output_type": "execute_result",
          "data": {
            "text/plain": [
              "['/content/drive/My Drive/DATA_SCIENCE/MLEngineer_Nanodegree/data/random_forest.joblib']"
            ]
          },
          "metadata": {
            "tags": []
          },
          "execution_count": 104
        }
      ]
    },
    {
      "cell_type": "markdown",
      "metadata": {
        "id": "PGe2G8MHfr72"
      },
      "source": [
        "### Ada Boosting:"
      ]
    },
    {
      "cell_type": "code",
      "metadata": {
        "colab": {
          "base_uri": "https://localhost:8080/"
        },
        "id": "9lUR_FhKcb_p",
        "outputId": "a838269e-f8d5-47a2-a1f4-e732c5cf561b"
      },
      "source": [
        "ab_gs.fit(X_combined_sampling, y_combined_sampling)\n",
        "ab_best = ab_gs.best_estimator_\n",
        "dump(ab_best, '/content/drive/My Drive/DATA_SCIENCE/MLEngineer_Nanodegree/data/adaboost4.joblib')"
      ],
      "execution_count": 105,
      "outputs": [
        {
          "output_type": "stream",
          "text": [
            "Fitting 5 folds for each of 4 candidates, totalling 20 fits\n"
          ],
          "name": "stdout"
        },
        {
          "output_type": "stream",
          "text": [
            "[Parallel(n_jobs=-1)]: Using backend LokyBackend with 4 concurrent workers.\n",
            "[Parallel(n_jobs=-1)]: Done  20 out of  20 | elapsed:  7.0min finished\n"
          ],
          "name": "stderr"
        },
        {
          "output_type": "execute_result",
          "data": {
            "text/plain": [
              "['/content/drive/My Drive/DATA_SCIENCE/MLEngineer_Nanodegree/data/adaboost4.joblib']"
            ]
          },
          "metadata": {
            "tags": []
          },
          "execution_count": 105
        }
      ]
    },
    {
      "cell_type": "markdown",
      "metadata": {
        "id": "Dj3SR1Dhfuu_"
      },
      "source": [
        "### Extra Trees:"
      ]
    },
    {
      "cell_type": "code",
      "metadata": {
        "colab": {
          "base_uri": "https://localhost:8080/"
        },
        "id": "IYIX57-cccEc",
        "outputId": "a4d31d0b-b000-42d2-fb13-45edac8f99e2"
      },
      "source": [
        "xt_gs.fit(X_combined_sampling, y_combined_sampling)\n",
        "xt_best = xt_gs.best_estimator_\n",
        "dump(xt_best, '/content/drive/My Drive/DATA_SCIENCE/MLEngineer_Nanodegree/extratrees.joblib')"
      ],
      "execution_count": 106,
      "outputs": [
        {
          "output_type": "stream",
          "text": [
            "Fitting 5 folds for each of 16 candidates, totalling 80 fits\n"
          ],
          "name": "stdout"
        },
        {
          "output_type": "stream",
          "text": [
            "[Parallel(n_jobs=-1)]: Using backend LokyBackend with 4 concurrent workers.\n",
            "[Parallel(n_jobs=-1)]: Done  42 tasks      | elapsed:   33.5s\n",
            "[Parallel(n_jobs=-1)]: Done  80 out of  80 | elapsed:  1.1min finished\n"
          ],
          "name": "stderr"
        },
        {
          "output_type": "execute_result",
          "data": {
            "text/plain": [
              "['/content/drive/My Drive/DATA_SCIENCE/MLEngineer_Nanodegree/extratrees.joblib']"
            ]
          },
          "metadata": {
            "tags": []
          },
          "execution_count": 106
        }
      ]
    },
    {
      "cell_type": "markdown",
      "metadata": {
        "id": "RWtdQjWpilvw"
      },
      "source": [
        "### Let's test the 3 models, to choose the final one for the Kaggle competition\n",
        "\n",
        "The Area Under Curve (AUC) is a good score to evaluate classification problems, and it informs about how well the model is able to distinguish between classes. It is better the closer to 1 it is, with 0.5 representing the boundary of 50% chance."
      ]
    },
    {
      "cell_type": "code",
      "metadata": {
        "colab": {
          "base_uri": "https://localhost:8080/",
          "height": 279
        },
        "id": "Siwtr7HYivZr",
        "outputId": "2b94f257-1a0a-4648-cde1-48761d2ceb19"
      },
      "source": [
        "rf_disp = plot_roc_curve(rf_best, X_test, y_test, alpha=0.5)\n",
        "ax = plt.gca()\n",
        "ax.plot([0, 1], [0, 1], color='navy', lw=2, linestyle='--')\n",
        "ax.set(xlim=[-0.01, 1.0], ylim=[-0.01, 1.05])\n",
        "ab_disp = plot_roc_curve(ab_best, X_test, y_test, ax=ax, alpha=0.5)\n",
        "xt_disp = plot_roc_curve(xt_best, X_test, y_test, ax=ax, alpha=0.5)\n",
        "lr_disp = plot_roc_curve(lr, X_test, y_test, ax=ax, alpha=0.5)\n",
        "plt.show()"
      ],
      "execution_count": 110,
      "outputs": [
        {
          "output_type": "display_data",
          "data": {
            "image/png": "[encoded data removed]",
            "text/plain": [
              "<Figure size 432x288 with 1 Axes>"
            ]
          },
          "metadata": {
            "tags": [],
            "needs_background": "light"
          }
        }
      ]
    },
    {
      "cell_type": "markdown",
      "metadata": {
        "id": "Rubfit0di6pR"
      },
      "source": [
        "We can see that the 3 models outperform the benchmark logistic regression, with the Ada Boosting and the Extra Trees giving similar AUC values. We will choose the **Extra Trees** model, since it took only 1 minute to run, and it could be faster for future parameter tuning.\n",
        "\n",
        "### Model improvements:\n",
        "\n",
        "- More exhaustive grid search for hyper-parameter tuning.\n",
        "\n",
        "- Tuning with Feature Selection. More features does not always mean better model, and sometimes selecting the adequate features we can obtain a more generalized model.\n",
        "\n",
        "- Test more models.\n",
        "\n",
        "- A more in-deep pre-processing (remove possible outliers, other scaling methods...)"
      ]
    },
    {
      "cell_type": "markdown",
      "metadata": {
        "id": "HpgfpBCeQHkU"
      },
      "source": [
        "## Part 3: Kaggle Competition\n",
        "\n",
        "Now that you've created a model to predict which individuals are most likely to respond to a mailout campaign, it's time to test that model in competition through Kaggle. If you click on the link [here](http://www.kaggle.com/t/21e6d45d4c574c7fa2d868f0e8c83140), you'll be taken to the competition page where, if you have a Kaggle account, you can enter. If you're one of the top performers, you may have the chance to be contacted by a hiring manager from Arvato or Bertelsmann for an interview!\n",
        "\n",
        "Your entry to the competition should be a CSV file with two columns. The first column should be a copy of \"LNR\", which acts as an ID number for each individual in the \"TEST\" partition. The second column, \"RESPONSE\", should be some measure of how likely each individual became a customer – this might not be a straightforward probability. As you should have found in Part 2, there is a large output class imbalance, where most individuals did not respond to the mailout. Thus, predicting individual classes and using accuracy does not seem to be an appropriate performance evaluation method. Instead, the competition will be using AUC to evaluate performance. The exact values of the \"RESPONSE\" column do not matter as much: only that the higher values try to capture as many of the actual customers as possible, early in the ROC curve sweep."
      ]
    },
    {
      "cell_type": "code",
      "metadata": {
        "id": "S6CjMGIbQJtk",
        "colab": {
          "base_uri": "https://localhost:8080/"
        },
        "outputId": "1a011996-445d-4307-a15f-d89a4dfb2431"
      },
      "source": [
        "mailout_test = pd.read_csv('/content/drive/My Drive/DATA_SCIENCE/MLEngineer_Nanodegree/data/Udacity_MAILOUT_052018_TEST.csv', sep=';')"
      ],
      "execution_count": 144,
      "outputs": [
        {
          "output_type": "stream",
          "text": [
            "/usr/local/lib/python3.6/dist-packages/IPython/core/interactiveshell.py:2718: DtypeWarning: Columns (18,19) have mixed types.Specify dtype option on import or set low_memory=False.\n",
            "  interactivity=interactivity, compiler=compiler, result=result)\n"
          ],
          "name": "stderr"
        }
      ]
    },
    {
      "cell_type": "markdown",
      "metadata": {
        "id": "4yGDRiXvtcHx"
      },
      "source": [
        "The submission must have the same number of rows as the original test dataset, so we can't remove rows with a large amount of missing features as before."
      ]
    },
    {
      "cell_type": "code",
      "metadata": {
        "id": "5I34AcSmtZ5_"
      },
      "source": [
        "def clean_test_data(df):\n",
        "  \"\"\" Clean the data as done for the population and customers \"\"\"\n",
        "\n",
        "  # Convert unknown values into missing data\n",
        "  df = missing_to_nan(df, feat_info_unknown)\n",
        "\n",
        "  # Drop columns where more than 30% of customers/population rows were missing\n",
        "  df = df.drop(remove_cols, axis=1)\n",
        "\n",
        "  # Drop additional columns\n",
        "  remove_cols2 = ['EINGEFUEGT_AM', 'CAMEO_DEU_2015', 'CAMEO_INTL_2015', 'D19_LETZTER_KAUF_BRANCHE']\n",
        "  df = df.drop(remove_cols2, axis=1)\n",
        "\n",
        "  # Encode\n",
        "  df['OST_WEST_KZ'] = df['OST_WEST_KZ'].replace({'W': 0, 'O': 1})\n",
        "  df['CAMEO_DEUG_2015'] = df['CAMEO_DEUG_2015'].replace({'X': np.nan}).astype(float)\n",
        "\n",
        "  return df"
      ],
      "execution_count": 142,
      "outputs": []
    },
    {
      "cell_type": "code",
      "metadata": {
        "id": "_JAl8MCBnCjo"
      },
      "source": [
        "mailout_test_clean = clean_test_data(mailout_test)"
      ],
      "execution_count": 145,
      "outputs": []
    },
    {
      "cell_type": "code",
      "metadata": {
        "id": "e72DocCEQLK0"
      },
      "source": [
        "mailout_test_LNR = mailout_test_clean['LNR']\n",
        "mailout_test_clean.drop('LNR', axis=1, inplace=True)"
      ],
      "execution_count": 146,
      "outputs": []
    },
    {
      "cell_type": "code",
      "metadata": {
        "id": "I-bgEHxinCoo"
      },
      "source": [
        "# Imputing Missing data\n",
        "imputer = SimpleImputer(strategy='most_frequent')\n",
        "imputed_mailout_test = pd.DataFrame(imputer.fit_transform(mailout_test_clean),\n",
        "                                    columns = mailout_test_clean.columns)"
      ],
      "execution_count": 147,
      "outputs": []
    },
    {
      "cell_type": "code",
      "metadata": {
        "id": "jT2IjHE2nCrl"
      },
      "source": [
        "pred_test = xt_best.predict(imputed_mailout_test)"
      ],
      "execution_count": 148,
      "outputs": []
    },
    {
      "cell_type": "code",
      "metadata": {
        "id": "PvIWxCQ4pHta"
      },
      "source": [
        "df_sub = pd.DataFrame({'LNR': mailout_test_LNR, 'RESPONSE': pred_test})"
      ],
      "execution_count": 149,
      "outputs": []
    },
    {
      "cell_type": "code",
      "metadata": {
        "id": "BAdLGztUq1B5"
      },
      "source": [
        "df_sub.to_csv('/content/drive/My Drive/DATA_SCIENCE/MLEngineer_Nanodegree/data/submission_kaggle.csv', index=False)"
      ],
      "execution_count": 151,
      "outputs": []
    },
    {
      "cell_type": "markdown",
      "metadata": {
        "id": "M2KYqt8luuto"
      },
      "source": [
        "Submission done!"
      ]
    },
    {
      "cell_type": "code",
      "metadata": {
        "colab": {
          "base_uri": "https://localhost:8080/",
          "height": 127
        },
        "id": "p67BzAp5ugeI",
        "outputId": "37513a73-471e-4971-f22b-5c9a0acf97a2"
      },
      "source": [
        "from IPython.display import Image\n",
        "Image(filename = '/content/drive/My Drive/DATA_SCIENCE/MLEngineer_Nanodegree/data/submission.png',\n",
        "      width = 1000, height = 110)"
      ],
      "execution_count": 157,
      "outputs": [
        {
          "output_type": "execute_result",
          "data": {
            "image/png": "[encoded data removed]",
            "text/plain": [
              "<IPython.core.display.Image object>"
            ]
          },
          "metadata": {
            "tags": [],
            "image/png": {
              "width": 1000,
              "height": 110
            }
          },
          "execution_count": 157
        }
      ]
    },
    {
      "cell_type": "markdown",
      "metadata": {
        "id": "1Pp3GGh09LBD"
      },
      "source": [
        "\n",
        "\n",
        "---\n",
        "\n"
      ]
    }
  ]
}